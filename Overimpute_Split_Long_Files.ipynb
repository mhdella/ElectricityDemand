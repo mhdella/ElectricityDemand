{
 "cells": [
  {
   "cell_type": "code",
   "execution_count": 1,
   "metadata": {},
   "outputs": [],
   "source": [
    "import pandas as pd\n",
    "import numpy as np"
   ]
  },
  {
   "cell_type": "code",
   "execution_count": 2,
   "metadata": {},
   "outputs": [],
   "source": [
    "# Load with various verbose summaries\n",
    "def load_csv(file_path, columns, na_vals=['NA',], parse_d=True, verbose=0):\n",
    "    dtype_map = {}\n",
    "    for col in columns:\n",
    "        dtype_map[col] = np.float64\n",
    "    df = pd.read_csv(file_path,\n",
    "                    dtype=dtype_map,\n",
    "                    parse_dates=parse_d,\n",
    "                    na_values=na_vals)\n",
    "    if verbose >= 1:\n",
    "        #print(\"\\nHead(10)\")\n",
    "        #print(df.head(10))\n",
    "        print(\"\\nDescribe\")\n",
    "        print(df.describe().round(2))\n",
    "        print(\"\\ndf.isna().sum(axis=0)\")\n",
    "        print(df.isna().sum(axis=0))\n",
    "    if verbose >= 2:\n",
    "        plt.imshow(~df.isna(), aspect='auto')\n",
    "        plt.xlabel(\"variables\")\n",
    "        plt.ylabel(\"cases\")\n",
    "        plt.gray()\n",
    "        plt.show()\n",
    "    if 'date_time' in df.columns:\n",
    "        df['date_time'] = pd.to_datetime(df['date_time'])\n",
    "    return df"
   ]
  },
  {
   "cell_type": "code",
   "execution_count": null,
   "metadata": {},
   "outputs": [],
   "source": [
    "regions = ['x',]\n",
    "base = '/Users/truggles/Downloads/for_tyler_Oct07_overimputes/'\n",
    "\n",
    "for v in range(6):\n",
    "    \n",
    "    df_mice_all = load_csv(base+f'all_overimpute_oct_7_2019_csv_MASTER_v12_2day_{v}_mice.csv', regions, ['NA',], True, 0)\n",
    "\n",
    "    for i in range(1, 21):\n",
    "        #print(i)\n",
    "        \n",
    "        df_mice = df_mice_all.loc[df_mice_all['imp_index'] == i]\n",
    "\n",
    "        df_mice.to_csv(base+f'imp_{v}_chain_{i}.csv', index=False, na_rep='NA')\n"
   ]
  },
  {
   "cell_type": "code",
   "execution_count": null,
   "metadata": {},
   "outputs": [],
   "source": []
  }
 ],
 "metadata": {
  "kernelspec": {
   "display_name": "Python 3",
   "language": "python",
   "name": "python3"
  },
  "language_info": {
   "codemirror_mode": {
    "name": "ipython",
    "version": 3
   },
   "file_extension": ".py",
   "mimetype": "text/x-python",
   "name": "python",
   "nbconvert_exporter": "python",
   "pygments_lexer": "ipython3",
   "version": "3.7.3"
  }
 },
 "nbformat": 4,
 "nbformat_minor": 2
}
