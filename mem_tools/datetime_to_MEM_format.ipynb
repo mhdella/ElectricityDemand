{
 "cells": [
  {
   "cell_type": "markdown",
   "metadata": {},
   "source": [
    "# From Datetime to MEM format\n",
    "\n",
    "Take normal datetime format of the pandas equivalent and covert\n",
    "the file to MEM style: year, month, day, hour format\n"
   ]
  },
  {
   "cell_type": "code",
   "execution_count": null,
   "metadata": {},
   "outputs": [],
   "source": [
    "import pandas as pd\n",
    "import numpy as np\n",
    "from datetime import datetime, timedelta\n",
    "import csv\n",
    "import matplotlib.pyplot as plt"
   ]
  },
  {
   "cell_type": "code",
   "execution_count": null,
   "metadata": {},
   "outputs": [],
   "source": [
    "def make_MEM_compatible(f_name, save_name, date_time_field='date_time'):\n",
    "    print(f\"In file: {f_name}\")\n",
    "    df = pd.read_csv(f_name)\n",
    "    df['date_time'] = pd.to_datetime(df[date_time_field])\n",
    "    \n",
    "    with open(f'{save_name}.csv', 'w', newline='') as csvfile:\n",
    "\n",
    "        fieldnames = ['year', 'month', 'day', 'hour', 'demand (MW)']#'date_time']\n",
    "        writer = csv.DictWriter(csvfile, fieldnames=fieldnames)\n",
    "        writer.writeheader()\n",
    "        \n",
    "        for idx in df.index:\n",
    "            # This strange shift is to uses MEM's 1-24 counting,\n",
    "            # see example datetime and MEM for these three hours:\n",
    "            # year,month,day,hour,date_time\n",
    "            # 2015,7,2,23,2015-07-02 23:00:00\n",
    "            # 2015,7,2,24,2015-07-03 00:00:00\n",
    "            # 2015,7,3,1,2015-07-03 01:00:00\n",
    "            mem_format = df.loc[idx, 'date_time'] + timedelta(hours=-1)\n",
    "            writer.writerow({\n",
    "                'year': mem_format.year,\n",
    "                'month': mem_format.month,\n",
    "                'day': mem_format.day,\n",
    "                'hour': mem_format.hour+1,\n",
    "                'demand (MW)': int(df.loc[idx, 'cleaned demand (MW)']),\n",
    "                #'date_time': df.loc[idx, 'date_time']\n",
    "            })\n",
    "    print(f\"Outfile: {save_name}\")"
   ]
  },
  {
   "cell_type": "code",
   "execution_count": null,
   "metadata": {},
   "outputs": [],
   "source": [
    "\n",
    "base = '~/Downloads/truggles-EIA_Cleaned_Hourly_Electricity_Demand_Data-1b31ad5/data/release_2019_Oct/'\n",
    "\n",
    "make_MEM_compatible(base+'contiguous_US/CONUS.csv', 'US_demand_unnormalized')\n",
    "\n",
    "make_MEM_compatible(base+'interconnects/EASTERN_IC.csv', 'EASTERN_IC')\n",
    "make_MEM_compatible(base+'interconnects/TEXAS_IC.csv', 'TEXAS_IC')\n",
    "make_MEM_compatible(base+'interconnects/WESTERN_IC.csv', 'WESTERN_IC')"
   ]
  },
  {
   "cell_type": "code",
   "execution_count": null,
   "metadata": {},
   "outputs": [],
   "source": [
    "def compare_with_previous_file(old, o_header, new, n_header):\n",
    "    \n",
    "    o = pd.read_csv(old, header=o_header)\n",
    "    n = pd.read_csv(new, header=n_header)\n",
    "    \n",
    "    print(len(n.index))\n",
    "    \n",
    "    n = n.iloc[1:-1]\n",
    "    n = n.reset_index()\n",
    "    \n",
    "    o = o.iloc[0:35062]\n",
    "    o = o.reset_index()\n",
    "    \n",
    "    print(o.head())\n",
    "    print(n.head())\n",
    "    \n",
    "    print(o.tail())\n",
    "    print(n.tail())\n",
    "    \n",
    "    fig, axs = plt.subplots(1,2)\n",
    "    axs[0].hist(o['demand (MW)']/n['demand (MW)'], 50)\n",
    "    \n",
    "    axs[1].hist(o['demand (MW)']/n['demand (MW)'], 50)\n",
    "    plt.yscale('log')\n",
    "    \n",
    "    axs[0].set_ylabel('entries (4 years total)')\n",
    "    axs[0].set_xlabel('previous value/new value')\n",
    "    axs[1].set_ylabel('entries (4 years total)')\n",
    "    axs[1].set_xlabel('previous value/new value')\n",
    "    \n",
    "    plt.tight_layout()\n",
    "    plt.show()\n",
    "    \n",
    "compare_with_previous_file('/Users/truggles/SEM-1.2_CIW/Input_Data/Lei_Solar_Wind/US_demand_unnormalized.csv',\n",
    "                          8,\n",
    "                          'US_demand_unnormalized.csv', 0)"
   ]
  },
  {
   "cell_type": "code",
   "execution_count": null,
   "metadata": {},
   "outputs": [],
   "source": []
  }
 ],
 "metadata": {
  "kernelspec": {
   "display_name": "Python 3",
   "language": "python",
   "name": "python3"
  },
  "language_info": {
   "codemirror_mode": {
    "name": "ipython",
    "version": 3
   },
   "file_extension": ".py",
   "mimetype": "text/x-python",
   "name": "python",
   "nbconvert_exporter": "python",
   "pygments_lexer": "ipython3",
   "version": "3.7.4"
  }
 },
 "nbformat": 4,
 "nbformat_minor": 2
}
