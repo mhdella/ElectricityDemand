{
 "cells": [
  {
   "cell_type": "code",
   "execution_count": null,
   "metadata": {},
   "outputs": [],
   "source": [
    "import pandas as pd\n",
    "import numpy as np\n",
    "from helpers import return_good_regions\n",
    "import pickle\n",
    "import matplotlib.pyplot as plt"
   ]
  },
  {
   "cell_type": "code",
   "execution_count": null,
   "metadata": {},
   "outputs": [],
   "source": [
    "# Add other IQR\n",
    "def add_hourly_iqr(df, hIQR):\n",
    "    rolling = np.empty((0,), float)\n",
    "    \n",
    "    for i in range(len(df.index)):\n",
    "        lst = df.loc[i-hIQR:i+hIQR-1, 'dem_rel_diff_wrt_hourly_delta_pre']\n",
    "        iqr = np.nanpercentile(lst, 75) - np.nanpercentile(lst, 25)\n",
    "        rolling = np.append(rolling, iqr)\n",
    "    \n",
    "    return df.assign(hourly_IQR=rolling)\n",
    "\n",
    "\n",
    "# normalize IQRs\n",
    "def df_normalize(df, cols):\n",
    "    for col in cols:\n",
    "        df[col] = df[col] / np.mean(df[col])\n",
    "    return df\n",
    "\n",
    "\n",
    "\n",
    "def print_stats(df, col):\n",
    "    print(f\"{col},{np.nanmax(df[col])},{np.nanmin(df[col])},{np.nanmean(df[col])},{np.std(df[col])}\", end =\",\")\n"
   ]
  },
  {
   "cell_type": "code",
   "execution_count": null,
   "metadata": {},
   "outputs": [],
   "source": [
    "regions = return_good_regions()\n",
    "regions = ['CISO',]#'FPL']\n",
    "version = '_v12_2day'\n",
    "app = 'Oct15'\n",
    "\n",
    "hIQR = 24*5\n",
    "iqrs = ['dem_minus_rolling_IQR', 'delta_rolling_IQR', 'hourly_IQR']\n",
    "\n",
    "for region in regions:\n",
    "    #print('Loading from pickle /Users/truggles/tmp_data{}/pickle_{}{}_r2.pkl'.format(app, region, version))\n",
    "    pickle_in = open('/Users/truggles/tmp_data{}/pickle_{}{}_r2.pkl'.format(app, region, version),'rb')\n",
    "    df = pickle.load(pickle_in)\n",
    "    df['date_time'] = pd.to_datetime(df['date_time'])\n",
    "    \n",
    "   \n",
    "    df = add_hourly_iqr(df, hIQR)\n",
    "\n",
    "#cols = df.columns\n",
    "#for col in cols:\n",
    "#    if 'IQR' in col or 'iqr' in col:\n",
    "#        print(col)\n",
    "#print(cols)\n",
    "\n",
    "\n",
    "    df = df_normalize(df, iqrs)\n",
    "\n",
    "    print(region, end =\",\")\n",
    "    for col in iqrs:\n",
    "        print_stats(df, col)\n",
    "    print(\"\")"
   ]
  },
  {
   "cell_type": "code",
   "execution_count": null,
   "metadata": {},
   "outputs": [],
   "source": [
    "cols = df.columns\n",
    "for col in cols:\n",
    "    if 'IQR' in col or 'iqr' in col:\n",
    "        print(col)\n",
    "print(cols)"
   ]
  },
  {
   "cell_type": "code",
   "execution_count": null,
   "metadata": {},
   "outputs": [],
   "source": [
    "fig, ax = plt.subplots()\n",
    "ax.plot(df['dem_minus_rolling_IQR'])\n",
    "ax.plot(df['delta_rolling_IQR'])\n",
    "ax.plot(df['hourly_IQR'])"
   ]
  }
 ],
 "metadata": {
  "kernelspec": {
   "display_name": "Python 3",
   "language": "python",
   "name": "python3"
  },
  "language_info": {
   "codemirror_mode": {
    "name": "ipython",
    "version": 3
   },
   "file_extension": ".py",
   "mimetype": "text/x-python",
   "name": "python",
   "nbconvert_exporter": "python",
   "pygments_lexer": "ipython3",
   "version": "3.7.3"
  }
 },
 "nbformat": 4,
 "nbformat_minor": 2
}
