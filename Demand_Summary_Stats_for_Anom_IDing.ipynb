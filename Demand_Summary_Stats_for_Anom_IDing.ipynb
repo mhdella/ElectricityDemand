{
 "cells": [
  {
   "cell_type": "code",
   "execution_count": 1,
   "metadata": {},
   "outputs": [],
   "source": [
    "import pandas as pd\n",
    "import numpy as np"
   ]
  },
  {
   "cell_type": "code",
   "execution_count": 2,
   "metadata": {},
   "outputs": [
    {
     "name": "stderr",
     "output_type": "stream",
     "text": [
      "/anaconda3/lib/python3.7/site-packages/pandas/core/ops.py:1649: FutureWarning: elementwise comparison failed; returning scalar instead, but in the future will perform elementwise comparison\n",
      "  result = method(y)\n"
     ]
    },
    {
     "name": "stdout",
     "output_type": "stream",
     "text": [
      "OKAY, 1972839, 0.999646\n",
      "MISSING, 0, 0.0\n",
      "NEG_OR_ZERO, 0, 0.0\n",
      "GLOBAL_DEM, 0, 0.0\n",
      "GLOBAL_DEM_PLUS_MINUS, 0, 0.0\n",
      "LOCAL_DEM_UP, 6, 3e-06\n",
      "LOCAL_DEM_DOWN, 15, 8e-06\n",
      "DELTA, 21, 1.1e-05\n",
      "SINGLE_DELTA, 15, 8e-06\n",
      "IDENTICAL_RUN, 617, 0.000313\n",
      "ANOMALOUS_REGION, 25, 1.3e-05\n",
      "TOTAL 1973538\n"
     ]
    },
    {
     "data": {
      "text/plain": [
       "1973538.0"
      ]
     },
     "execution_count": 2,
     "metadata": {},
     "output_type": "execute_result"
    }
   ],
   "source": [
    "df = pd.read_csv('/Users/truggles/tmp_data4/csv_MASTER_v12_2day_VandV_13Sept.csv')\n",
    "\n",
    "tot = 0\n",
    "rec = []\n",
    "TYPEs = ['OKAY', 'MISSING', 'NEG_OR_ZERO', 'GLOBAL_DEM', \n",
    "             'GLOBAL_DEM_PLUS_MINUS', 'LOCAL_DEM_UP', 'LOCAL_DEM_DOWN',\n",
    "            'DELTA', 'SINGLE_DELTA', 'IDENTICAL_RUN', 'ANOMALOUS_REGION']\n",
    "for TYPE in TYPEs:\n",
    "    s = np.where(df == TYPE, 1, 0).sum()\n",
    "    tot += s\n",
    "    rec.append(s)\n",
    "for TYPE, val in zip(TYPEs, rec):\n",
    "    print(f\"{TYPE}, {val}, {round(val/tot, 6)}\")\n",
    "print(\"TOTAL\", tot)\n",
    "\n",
    "len(df.index) * (len(df.columns)-1)/2"
   ]
  },
  {
   "cell_type": "code",
   "execution_count": 3,
   "metadata": {
    "scrolled": true
   },
   "outputs": [
    {
     "name": "stdout",
     "output_type": "stream",
     "text": [
      "OKAY, 1920969, 0.973363\n",
      "MISSING, 43327, 0.021954\n",
      "NEG_OR_ZERO, 898, 0.000455\n",
      "GLOBAL_DEM, 173, 8.8e-05\n",
      "GLOBAL_DEM_PLUS_MINUS, 290, 0.000147\n",
      "LOCAL_DEM_UP, 319, 0.000162\n",
      "LOCAL_DEM_DOWN, 356, 0.00018\n",
      "DELTA, 1243, 0.00063\n",
      "SINGLE_DELTA, 183, 9.3e-05\n",
      "IDENTICAL_RUN, 3914, 0.001983\n",
      "ANOMALOUS_REGION, 1866, 0.000946\n",
      "TOTAL 1973538\n"
     ]
    },
    {
     "data": {
      "text/plain": [
       "1973538.0"
      ]
     },
     "execution_count": 3,
     "metadata": {},
     "output_type": "execute_result"
    }
   ],
   "source": [
    "df = pd.read_csv('~/Downloads/csv_MASTER_v12_2day.csv')\n",
    "df = df.drop(['SEC', 'SEC_category', 'OVEC', 'OVEC_category'], axis=1)\n",
    "\n",
    "\n",
    "tot = 0\n",
    "rec = []\n",
    "TYPEs = ['OKAY', 'MISSING', 'NEG_OR_ZERO', 'GLOBAL_DEM', \n",
    "             'GLOBAL_DEM_PLUS_MINUS', 'LOCAL_DEM_UP', 'LOCAL_DEM_DOWN',\n",
    "            'DELTA', 'SINGLE_DELTA', 'IDENTICAL_RUN', 'ANOMALOUS_REGION']\n",
    "for TYPE in TYPEs:\n",
    "    s = np.where(df == TYPE, 1, 0).sum()\n",
    "    tot += s\n",
    "    rec.append(s)\n",
    "for TYPE, val in zip(TYPEs, rec):\n",
    "    print(f\"{TYPE}, {val}, {round(val/tot, 6)}\")\n",
    "print(\"TOTAL\", tot)\n",
    "\n",
    "len(df.index) * (len(df.columns)-1)/2"
   ]
  },
  {
   "cell_type": "code",
   "execution_count": 5,
   "metadata": {},
   "outputs": [
    {
     "name": "stdout",
     "output_type": "stream",
     "text": [
      "OKAY, 1932267, 0.961286\n",
      "MISSING, 58407, 0.029057\n",
      "NEG_OR_ZERO, 3078, 0.001531\n",
      "GLOBAL_DEM, 173, 8.6e-05\n",
      "GLOBAL_DEM_PLUS_MINUS, 290, 0.000144\n",
      "LOCAL_DEM_UP, 350, 0.000174\n",
      "LOCAL_DEM_DOWN, 362, 0.00018\n",
      "DELTA, 1295, 0.000644\n",
      "SINGLE_DELTA, 183, 9.1e-05\n",
      "IDENTICAL_RUN, 11701, 0.005821\n",
      "ANOMALOUS_REGION, 1979, 0.000985\n",
      "TOTAL 2010085\n"
     ]
    },
    {
     "data": {
      "text/plain": [
       "2010085.0"
      ]
     },
     "execution_count": 5,
     "metadata": {},
     "output_type": "execute_result"
    }
   ],
   "source": [
    "### FOR OVEC\n",
    "df = pd.read_csv('~/Downloads/csv_MASTER_v12_2day.csv')\n",
    "df = df.drop(['SEC', 'SEC_category'], axis=1)\n",
    "\n",
    "\n",
    "tot = 0\n",
    "rec = []\n",
    "TYPEs = ['OKAY', 'MISSING', 'NEG_OR_ZERO', 'GLOBAL_DEM', \n",
    "             'GLOBAL_DEM_PLUS_MINUS', 'LOCAL_DEM_UP', 'LOCAL_DEM_DOWN',\n",
    "            'DELTA', 'SINGLE_DELTA', 'IDENTICAL_RUN', 'ANOMALOUS_REGION']\n",
    "for TYPE in TYPEs:\n",
    "    s = np.where(df == TYPE, 1, 0).sum()\n",
    "    tot += s\n",
    "    rec.append(s)\n",
    "for TYPE, val in zip(TYPEs, rec):\n",
    "    print(f\"{TYPE}, {val}, {round(val/tot, 6)}\")\n",
    "print(\"TOTAL\", tot)\n",
    "\n",
    "len(df.index) * (len(df.columns)-1)/2"
   ]
  },
  {
   "cell_type": "code",
   "execution_count": 6,
   "metadata": {},
   "outputs": [
    {
     "name": "stdout",
     "output_type": "stream",
     "text": [
      "OKAY, 1949427, 0.969823\n",
      "MISSING, 44551, 0.022164\n",
      "NEG_OR_ZERO, 5645, 0.002808\n",
      "GLOBAL_DEM, 224, 0.000111\n",
      "GLOBAL_DEM_PLUS_MINUS, 355, 0.000177\n",
      "LOCAL_DEM_UP, 400, 0.000199\n",
      "LOCAL_DEM_DOWN, 370, 0.000184\n",
      "DELTA, 1309, 0.000651\n",
      "SINGLE_DELTA, 195, 9.7e-05\n",
      "IDENTICAL_RUN, 3956, 0.001968\n",
      "ANOMALOUS_REGION, 3653, 0.001817\n",
      "TOTAL 2010085\n"
     ]
    },
    {
     "data": {
      "text/plain": [
       "2010085.0"
      ]
     },
     "execution_count": 6,
     "metadata": {},
     "output_type": "execute_result"
    }
   ],
   "source": [
    "### FOR SEC\n",
    "df = pd.read_csv('~/Downloads/csv_MASTER_v12_2day.csv')\n",
    "df = df.drop(['OVEC', 'OVEC_category'], axis=1)\n",
    "\n",
    "\n",
    "tot = 0\n",
    "rec = []\n",
    "TYPEs = ['OKAY', 'MISSING', 'NEG_OR_ZERO', 'GLOBAL_DEM', \n",
    "             'GLOBAL_DEM_PLUS_MINUS', 'LOCAL_DEM_UP', 'LOCAL_DEM_DOWN',\n",
    "            'DELTA', 'SINGLE_DELTA', 'IDENTICAL_RUN', 'ANOMALOUS_REGION']\n",
    "for TYPE in TYPEs:\n",
    "    s = np.where(df == TYPE, 1, 0).sum()\n",
    "    tot += s\n",
    "    rec.append(s)\n",
    "for TYPE, val in zip(TYPEs, rec):\n",
    "    print(f\"{TYPE}, {val}, {round(val/tot, 6)}\")\n",
    "print(\"TOTAL\", tot)\n",
    "\n",
    "len(df.index) * (len(df.columns)-1)/2"
   ]
  },
  {
   "cell_type": "code",
   "execution_count": null,
   "metadata": {},
   "outputs": [],
   "source": []
  }
 ],
 "metadata": {
  "kernelspec": {
   "display_name": "Python 3",
   "language": "python",
   "name": "python3"
  },
  "language_info": {
   "codemirror_mode": {
    "name": "ipython",
    "version": 3
   },
   "file_extension": ".py",
   "mimetype": "text/x-python",
   "name": "python",
   "nbconvert_exporter": "python",
   "pygments_lexer": "ipython3",
   "version": "3.7.3"
  }
 },
 "nbformat": 4,
 "nbformat_minor": 2
}
