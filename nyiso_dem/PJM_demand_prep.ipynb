{
 "cells": [
  {
   "cell_type": "code",
   "execution_count": 1,
   "metadata": {},
   "outputs": [],
   "source": [
    "import pandas as pd\n",
    "import numpy as np"
   ]
  },
  {
   "cell_type": "code",
   "execution_count": 11,
   "metadata": {},
   "outputs": [
    {
     "name": "stdout",
     "output_type": "stream",
     "text": [
      "1993\n",
      " - 8759\n",
      "1994\n",
      " - 8759\n",
      " - 17518\n",
      "1995\n",
      " - 8759\n",
      " - 26277\n",
      "1996\n",
      " - 8783\n",
      " - 35060\n",
      "1997\n",
      " - 8759\n",
      " - 43819\n",
      "1998\n",
      " - 8759\n",
      " - 52578\n",
      "1999\n",
      " - 8759\n",
      " - 61337\n",
      "2000\n",
      " - 8784\n",
      " - 70121\n",
      "2001\n",
      " - 8759\n",
      " - 78880\n",
      "2002\n",
      " - 8748\n",
      " - 87628\n",
      "2003\n",
      " - 8757\n",
      " - 96385\n",
      "2004\n",
      " - 8782\n",
      " - 105167\n",
      "2005\n",
      " - 8760\n",
      " - 113927\n",
      "2006\n",
      " - 8760\n",
      " - 122687\n",
      "2007\n",
      " - 8760\n",
      " - 131447\n",
      "2008\n",
      " - 8784\n",
      " - 140231\n",
      "2009\n",
      " - 8758\n",
      " - 148989\n",
      "2010\n",
      " - 8760\n",
      " - 157749\n",
      "2011\n",
      " - 8760\n",
      " - 166509\n",
      "2012\n",
      " - 8784\n",
      " - 175293\n",
      "2013\n",
      " - 8760\n",
      " - 184053\n",
      "2014\n",
      " - 8760\n",
      " - 192813\n",
      "2015\n",
      " - 8760\n",
      " - 201573\n",
      "2016\n",
      " - 8784\n",
      " - 210357\n",
      "2017\n",
      " - 8760\n",
      " - 219117\n",
      "2018\n",
      " - 8760\n",
      " - 227877\n",
      "2019\n",
      " - 8760\n",
      " - 236637\n"
     ]
    }
   ],
   "source": [
    "### Check for hour start vs hour end timestamp\n",
    "\n",
    "first = True\n",
    "prep_mem = False\n",
    "for YEAR in range(1993, 2020):\n",
    "    \n",
    "    print(YEAR)\n",
    "    \n",
    "    \n",
    "    df = pd.read_csv(f'/Users/truggles/Downloads/PJM_DEMAND/hrl_load_metered_{YEAR}.csv')\n",
    "\n",
    "    df = df[ (df['nerc_region'] == 'RTO') &\n",
    "             (df['mkt_region'] == 'RTO') &\n",
    "             (df['zone'] == 'RTO') &\n",
    "             (df['load_area'] == 'RTO')           \n",
    "           ]\n",
    "        \n",
    "    #print(df.head())\n",
    "    print(f' - {len(df.index)}')\n",
    "    \n",
    "    if first:\n",
    "        master = df[['datetime_beginning_utc', 'mw']]\n",
    "        master_cols = list(master.columns)\n",
    "    else:\n",
    "        master = master.append(df[['datetime_beginning_utc', 'mw']])\n",
    "        print(f' - {len(master.index)}')\n",
    "    first = False\n",
    "\n",
    "if not prep_mem:\n",
    "    master.to_csv('tmp_PJM1.csv', index=False)"
   ]
  },
  {
   "cell_type": "code",
   "execution_count": 12,
   "metadata": {},
   "outputs": [
    {
     "data": {
      "text/plain": [
       "datetime_beginning_utc            object\n",
       "mw                               float64\n",
       "date_time                 datetime64[ns]\n",
       "dtype: object"
      ]
     },
     "execution_count": 12,
     "metadata": {},
     "output_type": "execute_result"
    }
   ],
   "source": [
    "df = pd.read_csv('tmp_PJM1.csv')\n",
    "df['date_time'] = pd.to_datetime(df['datetime_beginning_utc'])\n",
    "df.dtypes"
   ]
  },
  {
   "cell_type": "code",
   "execution_count": 13,
   "metadata": {},
   "outputs": [
    {
     "name": "stdout",
     "output_type": "stream",
     "text": [
      "Gap at idx 7273 for times 1993-10-31 05:00:00 --> 1993-10-31 07:00:00\n",
      "Gap at idx 16008 for times 1994-10-30 05:00:00 --> 1994-10-30 07:00:00\n",
      "Gap at idx 24743 for times 1995-10-29 05:00:00 --> 1995-10-29 07:00:00\n",
      "Gap at idx 33478 for times 1996-10-27 05:00:00 --> 1996-10-27 07:00:00\n",
      "Gap at idx 42213 for times 1997-10-26 05:00:00 --> 1997-10-26 07:00:00\n",
      "Gap at idx 50948 for times 1998-10-25 05:00:00 --> 1998-10-25 07:00:00\n",
      "Gap at idx 59851 for times 1999-10-31 05:00:00 --> 1999-10-31 07:00:00\n",
      "Gap at idx 77322 for times 2001-10-28 05:00:00 --> 2001-10-28 07:00:00\n",
      "Gap at idx 79631 for times 2002-02-01 11:00:00 --> 2002-02-01 13:00:00\n",
      "Gap at idx 80294 for times 2002-03-01 03:00:00 --> 2002-03-01 05:00:00\n",
      "Gap at idx 80932 for times 2002-03-27 18:00:00 --> 2002-03-28 05:00:00\n",
      "Gap at idx 89926 for times 2003-04-06 22:00:00 --> 2003-04-07 00:00:00\n",
      "Gap at idx 89949 for times 2003-04-07 22:00:00 --> 2003-04-08 00:00:00\n",
      "Gap at idx 95262 for times 2003-11-15 08:00:00 --> 2003-11-15 10:00:00\n",
      "Gap at idx 103681 for times 2004-10-31 04:00:00 --> 2004-10-31 07:00:00\n",
      "Gap at idx 147527 for times 2009-11-01 04:00:00 --> 2009-11-01 07:00:00\n"
     ]
    }
   ],
   "source": [
    "from datetime import datetime, timedelta\n",
    "\n",
    "prev = 0\n",
    "for idx in df.index:\n",
    "    current = df.loc[idx, 'date_time']\n",
    "    if idx == 0:\n",
    "        previous = current+timedelta(hours=-1)\n",
    "    \n",
    "    if current != previous+timedelta(hours=1):\n",
    "        print(f\"Gap at idx {idx} for times {previous} --> {current}\")\n",
    "    previous = current"
   ]
  },
  {
   "cell_type": "code",
   "execution_count": null,
   "metadata": {},
   "outputs": [],
   "source": []
  }
 ],
 "metadata": {
  "kernelspec": {
   "display_name": "Python 3",
   "language": "python",
   "name": "python3"
  },
  "language_info": {
   "codemirror_mode": {
    "name": "ipython",
    "version": 3
   },
   "file_extension": ".py",
   "mimetype": "text/x-python",
   "name": "python",
   "nbconvert_exporter": "python",
   "pygments_lexer": "ipython3",
   "version": "3.7.4"
  }
 },
 "nbformat": 4,
 "nbformat_minor": 2
}
