{
 "cells": [
  {
   "cell_type": "markdown",
   "metadata": {},
   "source": [
    "# FIXME\n",
    "Some files have multiple entries for a single region for a given time stamp\n",
    "* Currently, I am taking the first entry\n",
    "\n",
    "Some files are missing entries for a single hour\n",
    "* Currently, these are being skipped."
   ]
  },
  {
   "cell_type": "code",
   "execution_count": null,
   "metadata": {},
   "outputs": [],
   "source": [
    "import pandas as pd\n",
    "import numpy as np\n",
    "from glob import glob"
   ]
  },
  {
   "cell_type": "code",
   "execution_count": null,
   "metadata": {},
   "outputs": [],
   "source": [
    "### FIXME\n",
    "\n",
    "\n",
    "def get_files(year, month):\n",
    "    files = glob(f'./nyiso_{year}{month:02}/{year}*.csv')\n",
    "    files.sort()\n",
    "    dfs = []\n",
    "    for f in files:\n",
    "        print(f)\n",
    "        df = nyiso_to_neat_data(f)\n",
    "        if type(df) == int:\n",
    "            continue\n",
    "        else:\n",
    "            dfs.append(df)\n",
    "    return dfs\n",
    "\n",
    "def nyiso_to_neat_data(fname):\n",
    "    df = pd.read_csv(fname)\n",
    "    #print(df.head())\n",
    "    #print(df.tail())\n",
    "    mapping = {}\n",
    "    mapping['date_time'] = []\n",
    "    mapping['time_zone'] = []\n",
    "    # Get all regions\n",
    "    # Some data issues lead to regions having multiple entries\n",
    "    # in first hour\n",
    "    start_time = -1\n",
    "    for idx in df.index:\n",
    "        if start_time == -1:\n",
    "            start_time = df.loc[idx, 'Time Stamp']\n",
    "        if df.loc[idx, 'Name'] not in mapping.keys():\n",
    "            mapping[df.loc[idx, 'Name']] = []\n",
    "        if df.loc[idx, 'Time Stamp'] != start_time:\n",
    "            break\n",
    "    #print(mapping)\n",
    "    # Populate values\n",
    "    for idx in df.index:\n",
    "        if df.loc[idx, 'Time Stamp'] not in mapping['date_time']:\n",
    "            mapping['date_time'].append(df.loc[idx, 'Time Stamp'])\n",
    "            mapping['time_zone'].append(df.loc[idx, 'Time Zone'])\n",
    "        if len(mapping['date_time']) == len(mapping[df.loc[idx, 'Name']]) + 1:\n",
    "            mapping[df.loc[idx, 'Name']].append(df.loc[idx, 'Integrated Load'])\n",
    "    tgt_len = 24\n",
    "    for k, v in mapping.items():\n",
    "        if len(v) != tgt_len:\n",
    "            print(f\"Length problem with file {fname}\")\n",
    "            print(k, len(v))\n",
    "            return -1\n",
    "    df_new = pd.DataFrame(mapping)\n",
    "    return df_new\n",
    "\n",
    "def monthly_file(year, month):\n",
    "    dfs = get_files(year, month)\n",
    "    master = dfs[0]\n",
    "    for i in range(1, len(dfs)):\n",
    "        master = master.append(dfs[i], ignore_index = True)\n",
    "    #print(len(master.index))\n",
    "    master.to_csv(f'./nyiso_{year}{month:02}/demand_summary.csv')\n",
    "\n",
    "for year in range(2002, 2003):#2019):\n",
    "    for month in range(1, 13):\n",
    "        print(year,month)\n",
    "        monthly_file(year, month)\n",
    "    \n"
   ]
  },
  {
   "cell_type": "code",
   "execution_count": null,
   "metadata": {},
   "outputs": [],
   "source": []
  }
 ],
 "metadata": {
  "kernelspec": {
   "display_name": "Python 3",
   "language": "python",
   "name": "python3"
  },
  "language_info": {
   "codemirror_mode": {
    "name": "ipython",
    "version": 3
   },
   "file_extension": ".py",
   "mimetype": "text/x-python",
   "name": "python",
   "nbconvert_exporter": "python",
   "pygments_lexer": "ipython3",
   "version": "3.7.3"
  }
 },
 "nbformat": 4,
 "nbformat_minor": 2
}
