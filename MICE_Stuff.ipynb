{
 "cells": [
  {
   "cell_type": "markdown",
   "metadata": {},
   "source": [
    "This is a notebook copying through the example from http://www.maths.bath.ac.uk/~jjf23/LMR/python/missing.html\n",
    "As of 9 Aug, this is substantially different now.  But above is still a good reference."
   ]
  },
  {
   "cell_type": "code",
   "execution_count": 1,
   "metadata": {},
   "outputs": [],
   "source": [
    "import pandas as pd\n",
    "import numpy as np\n",
    "import matplotlib.pyplot as plt\n",
    "import statsmodels.api as sm\n",
    "import statsmodels.formula.api as smf"
   ]
  },
  {
   "cell_type": "code",
   "execution_count": 2,
   "metadata": {},
   "outputs": [],
   "source": [
    "def add_48hr_rolling(df):\n",
    "    # Can't use np.roll b/c it does not deal with NANs\n",
    "    # in a sophisticated manner.  Use np.nanmean which\n",
    "    # skips all NANs and leaves them out of the sum and\n",
    "    # division\n",
    "    rolling = np.empty((0,), float)\n",
    "    \n",
    "    for i in range(len(df.index)):\n",
    "        lst = df.loc[i-24:i+23]\n",
    "        val = np.nanmean(lst['demand (MW)'])\n",
    "        rolling = np.append(rolling, val)\n",
    "    \n",
    "    return df.assign(rolling48=rolling)\n",
    "\n",
    "# delta with previous and following time steps\n",
    "def add_deltas(df):\n",
    "    diff = df['demand (MW)'].diff()\n",
    "    df = df.assign(diff_pre=diff)\n",
    "    diff = df['demand (MW)'].diff(periods=-1)\n",
    "    df = df.assign(diff_post=diff)\n",
    "    return df\n",
    "\n",
    "\n",
    "# Filter on a multiplier of the IQR and set\n",
    "# the associated 'demand (MW)' value to NAN.\n",
    "# Filter on 1 multiplier for double deltas\n",
    "# and another for single jumps\n",
    "def filter_deltas(df, iqr, m_double, m_single):\n",
    "    for index, row in df.iterrows():\n",
    "        if abs(row['diff_pre']) > iqr * m_single:\n",
    "            df.at[index, 'demand (MW)'] = np.nan\n",
    "        elif abs(row['diff_post']) > iqr * m_single:\n",
    "            df.at[index, 'demand (MW)'] = np.nan\n",
    "        elif abs(row['diff_pre']) > iqr * m_double and \\\n",
    "                abs(row['diff_post']) > iqr * m_double:\n",
    "            df.at[index, 'demand (MW)'] = np.nan     \n",
    "    return df\n",
    "\n",
    "\n",
    "def filter_extrems(df, multiplier):\n",
    "    dem_iqr = np.percentile(df['demand (MW)'].dropna(), 75)\n",
    "    dem_iqr -= np.percentile(df['demand (MW)'].dropna(), 25)\n",
    "    df['demand (MW)'] = df['demand (MW)'].mask(df['demand (MW)'] > dem_iqr * multiplier)\n",
    "    return df"
   ]
  },
  {
   "cell_type": "code",
   "execution_count": 3,
   "metadata": {
    "scrolled": true
   },
   "outputs": [
    {
     "name": "stderr",
     "output_type": "stream",
     "text": [
      "/anaconda3/lib/python3.7/site-packages/numpy/lib/histograms.py:824: RuntimeWarning: invalid value encountered in greater_equal\n",
      "  keep = (tmp_a >= first_edge)\n",
      "/anaconda3/lib/python3.7/site-packages/numpy/lib/histograms.py:825: RuntimeWarning: invalid value encountered in less_equal\n",
      "  keep &= (tmp_a <= last_edge)\n"
     ]
    },
    {
     "name": "stdout",
     "output_type": "stream",
     "text": [
      "iqr pre 16.00 x 5 = 80.00\n",
      "diff_pre 25% -8.00  75% 8.00\n"
     ]
    },
    {
     "name": "stderr",
     "output_type": "stream",
     "text": [
      "/anaconda3/lib/python3.7/site-packages/ipykernel_launcher.py:10: RuntimeWarning: Mean of empty slice\n",
      "  # Remove the CWD from sys.path while we load stuff.\n"
     ]
    },
    {
     "name": "stdout",
     "output_type": "stream",
     "text": [
      "iqr pre 129.00 x 5 = 645.00\n",
      "diff_pre 25% -61.00  75% 68.00\n",
      "iqr pre 1428.00 x 5 = 7140.00\n",
      "diff_pre 25% -679.00  75% 749.00\n",
      "iqr pre 222.00 x 5 = 1110.00\n",
      "diff_pre 25% -111.00  75% 111.00\n"
     ]
    },
    {
     "data": {
      "text/plain": [
       "<Figure size 432x288 with 0 Axes>"
      ]
     },
     "metadata": {},
     "output_type": "display_data"
    },
    {
     "data": {
      "text/plain": [
       "<Figure size 432x288 with 0 Axes>"
      ]
     },
     "metadata": {},
     "output_type": "display_data"
    },
    {
     "data": {
      "text/plain": [
       "<Figure size 432x288 with 0 Axes>"
      ]
     },
     "metadata": {},
     "output_type": "display_data"
    },
    {
     "data": {
      "text/plain": [
       "<Figure size 432x288 with 0 Axes>"
      ]
     },
     "metadata": {},
     "output_type": "display_data"
    },
    {
     "data": {
      "image/png": "[encoded data removed]",
      "text/plain": [
       "<Figure size 432x288 with 1 Axes>"
      ]
     },
     "metadata": {
      "needs_background": "light"
     },
     "output_type": "display_data"
    }
   ],
   "source": [
    "dem_map = {}\n",
    "regions = ['TIDC', 'BANC', 'CISO', 'LDWP']\n",
    "for region in regions:\n",
    "    file_path = '../get_eia_demand_data/data/{}.csv'.format(region)\n",
    "    dem_map[region] = pd.read_csv(file_path, #index_col='time',\n",
    "                       dtype={'demand (MW)':np.float64},\n",
    "                      parse_dates=True, na_values=['MISSING', 'EMPTY'])\n",
    "    \n",
    "    # Set all negative and zero values to NAN\n",
    "    dem_map[region]['demand (MW)'] = dem_map[region]['demand (MW)'].mask(dem_map[region]['demand (MW)'] <= 0.)\n",
    "    \n",
    "    # Add deltas\n",
    "    dem_map[region] = add_deltas(dem_map[region])\n",
    "    \n",
    "    n, bins, patches = plt.hist(dem_map[region]['diff_pre'], 100, alpha=0.2, label='pre')\n",
    "    plt.yscale('log', nonposy='clip')\n",
    "    plt.savefig('diff_pre_{}.png'.format(region))\n",
    "    n, bins, patches = plt.hist(dem_map[region]['diff_post'], 100, alpha=0.2, label='post')\n",
    "    plt.yscale('log', nonposy='clip')\n",
    "    plt.savefig('diff_post_{}.png'.format(region))\n",
    "    \n",
    "    # Calculate IQR for the deltas\n",
    "    iqr = np.percentile(dem_map[region]['diff_pre'].dropna(), 75) - \\\n",
    "                np.percentile(dem_map[region]['diff_pre'].dropna(), 25)\n",
    "    \n",
    "    print(\"iqr pre {:.2f} x 5 = {:.2f}\".format(iqr, iqr*5))\n",
    "    print('diff_pre 25% {:.2f}  75% {:.2f}'.format(np.percentile(dem_map[region]['diff_pre'].dropna(), 25),\n",
    "                                                  np.percentile(dem_map[region]['diff_pre'].dropna(), 75)))\n",
    "    \n",
    "    #print(dem_map[region].describe().round(2))\n",
    "    multiplier_double = 4\n",
    "    multiplier_single = 6\n",
    "    dem_map[region] = filter_deltas(dem_map[region], iqr, multiplier_double, multiplier_single)\n",
    "    \n",
    "    \n",
    "    # Filter on extreme demand values\n",
    "    multiplier = 10\n",
    "    dem_map[region] = filter_extrems(dem_map[region], multiplier)\n",
    "    \n",
    "    \n",
    "    # Add rolling 48 hr average\n",
    "    dem_map[region] = add_48hr_rolling(dem_map[region])\n",
    "\n",
    "    #print(dem_map[region].head())\n",
    "    #print(dem_map[region].loc[1000:1005])\n",
    "\n",
    "    plt.clf()\n",
    "    fig, ax = plt.subplots()\n",
    "    ax.plot(dem_map[region]['demand (MW)'], 'r-', label='demand')\n",
    "    ax.plot(dem_map[region]['rolling48'], 'b-', label='rolling 48hr')\n",
    "    plt.savefig('demand_{}.png'.format(region))"
   ]
  },
  {
   "cell_type": "code",
   "execution_count": 4,
   "metadata": {},
   "outputs": [
    {
     "name": "stdout",
     "output_type": "stream",
     "text": [
      "TIDC\n",
      "BANC\n",
      "CISO\n",
      "LDWP\n",
      "  series_id          time  year  month  day  hour  demand (MW)  \\\n",
      "0      CISO  20150701T05Z  2015      7    1     6          NaN   \n",
      "1      CISO  20150701T06Z  2015      7    1     7          NaN   \n",
      "2      CISO  20150701T07Z  2015      7    1     8          NaN   \n",
      "3      CISO  20150701T08Z  2015      7    1     9      31486.0   \n",
      "4      CISO  20150701T09Z  2015      7    1    10      28989.0   \n",
      "\n",
      "   forecast demand (MW)  diff_pre  diff_post     rolling48   TIDC  TIDC_Lag1  \\\n",
      "0                   NaN       NaN        NaN  32744.952381    NaN      397.0   \n",
      "1                   NaN       NaN        NaN  32921.863636    NaN        NaN   \n",
      "2                   NaN       NaN        NaN  33034.521739    NaN        NaN   \n",
      "3               28653.0       NaN     2497.0  33018.666667  408.0        NaN   \n",
      "4               26895.0   -2497.0     1573.0  32890.960000  380.0      408.0   \n",
      "\n",
      "     BANC  BANC_Lag1     CISO  CISO_Lag1    LDWP  LDWP_Lag1  \n",
      "0     NaN     2490.0      NaN    24535.0     NaN     3265.0  \n",
      "1     NaN        NaN      NaN        NaN     NaN        NaN  \n",
      "2     NaN        NaN      NaN        NaN     NaN        NaN  \n",
      "3  2513.0        NaN  31486.0        NaN  3298.0        NaN  \n",
      "4  2275.0     2513.0  28989.0    31486.0  3045.0     3298.0  \n"
     ]
    }
   ],
   "source": [
    "df = dem_map['CISO']\n",
    "for k, v in dem_map.items():\n",
    "    print(k)\n",
    "    kwargs = {k : lambda x: v['demand (MW)'],\n",
    "              '{}_Lag1'.format(k) : lambda x: np.roll(v['demand (MW)'], +1),\n",
    "             }\n",
    "    df = df.assign(**kwargs)\n",
    "print(df.head())"
   ]
  },
  {
   "cell_type": "code",
   "execution_count": 5,
   "metadata": {
    "scrolled": true
   },
   "outputs": [
    {
     "data": {
      "text/html": [
       "<div>\n",
       "<style scoped>\n",
       "    .dataframe tbody tr th:only-of-type {\n",
       "        vertical-align: middle;\n",
       "    }\n",
       "\n",
       "    .dataframe tbody tr th {\n",
       "        vertical-align: top;\n",
       "    }\n",
       "\n",
       "    .dataframe thead th {\n",
       "        text-align: right;\n",
       "    }\n",
       "</style>\n",
       "<table border=\"1\" class=\"dataframe\">\n",
       "  <thead>\n",
       "    <tr style=\"text-align: right;\">\n",
       "      <th></th>\n",
       "      <th>rolling48</th>\n",
       "      <th>TIDC</th>\n",
       "      <th>TIDC_Lag1</th>\n",
       "      <th>BANC</th>\n",
       "      <th>BANC_Lag1</th>\n",
       "      <th>CISO</th>\n",
       "      <th>CISO_Lag1</th>\n",
       "      <th>LDWP</th>\n",
       "      <th>LDWP_Lag1</th>\n",
       "    </tr>\n",
       "  </thead>\n",
       "  <tbody>\n",
       "    <tr>\n",
       "      <th>0</th>\n",
       "      <td>32744.952381</td>\n",
       "      <td>NaN</td>\n",
       "      <td>397.0</td>\n",
       "      <td>NaN</td>\n",
       "      <td>2490.0</td>\n",
       "      <td>NaN</td>\n",
       "      <td>24535.0</td>\n",
       "      <td>NaN</td>\n",
       "      <td>3265.0</td>\n",
       "    </tr>\n",
       "    <tr>\n",
       "      <th>1</th>\n",
       "      <td>32921.863636</td>\n",
       "      <td>NaN</td>\n",
       "      <td>NaN</td>\n",
       "      <td>NaN</td>\n",
       "      <td>NaN</td>\n",
       "      <td>NaN</td>\n",
       "      <td>NaN</td>\n",
       "      <td>NaN</td>\n",
       "      <td>NaN</td>\n",
       "    </tr>\n",
       "    <tr>\n",
       "      <th>2</th>\n",
       "      <td>33034.521739</td>\n",
       "      <td>NaN</td>\n",
       "      <td>NaN</td>\n",
       "      <td>NaN</td>\n",
       "      <td>NaN</td>\n",
       "      <td>NaN</td>\n",
       "      <td>NaN</td>\n",
       "      <td>NaN</td>\n",
       "      <td>NaN</td>\n",
       "    </tr>\n",
       "    <tr>\n",
       "      <th>3</th>\n",
       "      <td>33018.666667</td>\n",
       "      <td>408.0</td>\n",
       "      <td>NaN</td>\n",
       "      <td>2513.0</td>\n",
       "      <td>NaN</td>\n",
       "      <td>31486.0</td>\n",
       "      <td>NaN</td>\n",
       "      <td>3298.0</td>\n",
       "      <td>NaN</td>\n",
       "    </tr>\n",
       "    <tr>\n",
       "      <th>4</th>\n",
       "      <td>32890.960000</td>\n",
       "      <td>380.0</td>\n",
       "      <td>408.0</td>\n",
       "      <td>2275.0</td>\n",
       "      <td>2513.0</td>\n",
       "      <td>28989.0</td>\n",
       "      <td>31486.0</td>\n",
       "      <td>3045.0</td>\n",
       "      <td>3298.0</td>\n",
       "    </tr>\n",
       "  </tbody>\n",
       "</table>\n",
       "</div>"
      ],
      "text/plain": [
       "      rolling48   TIDC  TIDC_Lag1    BANC  BANC_Lag1     CISO  CISO_Lag1  \\\n",
       "0  32744.952381    NaN      397.0     NaN     2490.0      NaN    24535.0   \n",
       "1  32921.863636    NaN        NaN     NaN        NaN      NaN        NaN   \n",
       "2  33034.521739    NaN        NaN     NaN        NaN      NaN        NaN   \n",
       "3  33018.666667  408.0        NaN  2513.0        NaN  31486.0        NaN   \n",
       "4  32890.960000  380.0      408.0  2275.0     2513.0  28989.0    31486.0   \n",
       "\n",
       "     LDWP  LDWP_Lag1  \n",
       "0     NaN     3265.0  \n",
       "1     NaN        NaN  \n",
       "2     NaN        NaN  \n",
       "3  3298.0        NaN  \n",
       "4  3045.0     3298.0  "
      ]
     },
     "execution_count": 5,
     "metadata": {},
     "output_type": "execute_result"
    }
   ],
   "source": [
    "for remove in ['series_id', 'year', 'month', 'day', \n",
    "               'hour', 'demand (MW)', 'forecast demand (MW)',\n",
    "               'time',\n",
    "               'diff_pre', 'diff_post'\n",
    "              ]:\n",
    "    df = df.drop(remove, axis=1)\n",
    "df.head()"
   ]
  },
  {
   "cell_type": "code",
   "execution_count": 6,
   "metadata": {},
   "outputs": [
    {
     "data": {
      "text/html": [
       "<div>\n",
       "<style scoped>\n",
       "    .dataframe tbody tr th:only-of-type {\n",
       "        vertical-align: middle;\n",
       "    }\n",
       "\n",
       "    .dataframe tbody tr th {\n",
       "        vertical-align: top;\n",
       "    }\n",
       "\n",
       "    .dataframe thead th {\n",
       "        text-align: right;\n",
       "    }\n",
       "</style>\n",
       "<table border=\"1\" class=\"dataframe\">\n",
       "  <thead>\n",
       "    <tr style=\"text-align: right;\">\n",
       "      <th></th>\n",
       "      <th>rolling48</th>\n",
       "      <th>TIDC</th>\n",
       "      <th>TIDC_Lag1</th>\n",
       "      <th>BANC</th>\n",
       "      <th>BANC_Lag1</th>\n",
       "      <th>CISO</th>\n",
       "      <th>CISO_Lag1</th>\n",
       "      <th>LDWP</th>\n",
       "      <th>LDWP_Lag1</th>\n",
       "    </tr>\n",
       "  </thead>\n",
       "  <tbody>\n",
       "    <tr>\n",
       "      <th>count</th>\n",
       "      <td>34338.00</td>\n",
       "      <td>31469.00</td>\n",
       "      <td>31469.00</td>\n",
       "      <td>33613.00</td>\n",
       "      <td>33613.00</td>\n",
       "      <td>33992.00</td>\n",
       "      <td>33992.00</td>\n",
       "      <td>33912.00</td>\n",
       "      <td>33912.00</td>\n",
       "    </tr>\n",
       "    <tr>\n",
       "      <th>mean</th>\n",
       "      <td>25917.50</td>\n",
       "      <td>296.43</td>\n",
       "      <td>296.43</td>\n",
       "      <td>1986.62</td>\n",
       "      <td>1986.62</td>\n",
       "      <td>25944.79</td>\n",
       "      <td>25944.79</td>\n",
       "      <td>3245.48</td>\n",
       "      <td>3245.48</td>\n",
       "    </tr>\n",
       "    <tr>\n",
       "      <th>std</th>\n",
       "      <td>3651.13</td>\n",
       "      <td>75.91</td>\n",
       "      <td>75.91</td>\n",
       "      <td>497.68</td>\n",
       "      <td>497.68</td>\n",
       "      <td>5078.04</td>\n",
       "      <td>5078.04</td>\n",
       "      <td>752.65</td>\n",
       "      <td>752.65</td>\n",
       "    </tr>\n",
       "    <tr>\n",
       "      <th>min</th>\n",
       "      <td>18000.27</td>\n",
       "      <td>183.00</td>\n",
       "      <td>183.00</td>\n",
       "      <td>1183.00</td>\n",
       "      <td>1183.00</td>\n",
       "      <td>13850.00</td>\n",
       "      <td>13850.00</td>\n",
       "      <td>2019.00</td>\n",
       "      <td>2019.00</td>\n",
       "    </tr>\n",
       "    <tr>\n",
       "      <th>25%</th>\n",
       "      <td>23489.31</td>\n",
       "      <td>246.00</td>\n",
       "      <td>246.00</td>\n",
       "      <td>1670.00</td>\n",
       "      <td>1670.00</td>\n",
       "      <td>22243.75</td>\n",
       "      <td>22243.75</td>\n",
       "      <td>2703.00</td>\n",
       "      <td>2703.00</td>\n",
       "    </tr>\n",
       "    <tr>\n",
       "      <th>50%</th>\n",
       "      <td>24814.16</td>\n",
       "      <td>278.00</td>\n",
       "      <td>278.00</td>\n",
       "      <td>1879.00</td>\n",
       "      <td>1879.00</td>\n",
       "      <td>25153.00</td>\n",
       "      <td>25153.00</td>\n",
       "      <td>3126.00</td>\n",
       "      <td>3126.00</td>\n",
       "    </tr>\n",
       "    <tr>\n",
       "      <th>75%</th>\n",
       "      <td>28031.87</td>\n",
       "      <td>316.00</td>\n",
       "      <td>316.00</td>\n",
       "      <td>2100.00</td>\n",
       "      <td>2100.00</td>\n",
       "      <td>28064.25</td>\n",
       "      <td>28064.25</td>\n",
       "      <td>3534.00</td>\n",
       "      <td>3534.00</td>\n",
       "    </tr>\n",
       "    <tr>\n",
       "      <th>max</th>\n",
       "      <td>38320.38</td>\n",
       "      <td>653.00</td>\n",
       "      <td>653.00</td>\n",
       "      <td>4318.00</td>\n",
       "      <td>4318.00</td>\n",
       "      <td>49899.00</td>\n",
       "      <td>49899.00</td>\n",
       "      <td>7095.00</td>\n",
       "      <td>7095.00</td>\n",
       "    </tr>\n",
       "  </tbody>\n",
       "</table>\n",
       "</div>"
      ],
      "text/plain": [
       "       rolling48      TIDC  TIDC_Lag1      BANC  BANC_Lag1      CISO  \\\n",
       "count   34338.00  31469.00   31469.00  33613.00   33613.00  33992.00   \n",
       "mean    25917.50    296.43     296.43   1986.62    1986.62  25944.79   \n",
       "std      3651.13     75.91      75.91    497.68     497.68   5078.04   \n",
       "min     18000.27    183.00     183.00   1183.00    1183.00  13850.00   \n",
       "25%     23489.31    246.00     246.00   1670.00    1670.00  22243.75   \n",
       "50%     24814.16    278.00     278.00   1879.00    1879.00  25153.00   \n",
       "75%     28031.87    316.00     316.00   2100.00    2100.00  28064.25   \n",
       "max     38320.38    653.00     653.00   4318.00    4318.00  49899.00   \n",
       "\n",
       "       CISO_Lag1      LDWP  LDWP_Lag1  \n",
       "count   33992.00  33912.00   33912.00  \n",
       "mean    25944.79   3245.48    3245.48  \n",
       "std      5078.04    752.65     752.65  \n",
       "min     13850.00   2019.00    2019.00  \n",
       "25%     22243.75   2703.00    2703.00  \n",
       "50%     25153.00   3126.00    3126.00  \n",
       "75%     28064.25   3534.00    3534.00  \n",
       "max     49899.00   7095.00    7095.00  "
      ]
     },
     "execution_count": 6,
     "metadata": {},
     "output_type": "execute_result"
    }
   ],
   "source": [
    "df.describe().round(2)"
   ]
  },
  {
   "cell_type": "code",
   "execution_count": 7,
   "metadata": {},
   "outputs": [
    {
     "data": {
      "text/plain": [
       "rolling48       1\n",
       "TIDC         2870\n",
       "TIDC_Lag1    2870\n",
       "BANC          726\n",
       "BANC_Lag1     726\n",
       "CISO          347\n",
       "CISO_Lag1     347\n",
       "LDWP          427\n",
       "LDWP_Lag1     427\n",
       "dtype: int64"
      ]
     },
     "execution_count": 7,
     "metadata": {},
     "output_type": "execute_result"
    }
   ],
   "source": [
    "df.isna().sum(axis=0)"
   ]
  },
  {
   "cell_type": "code",
   "execution_count": 8,
   "metadata": {},
   "outputs": [
    {
     "data": {
      "image/png": "[encoded data removed]",
      "text/plain": [
       "<Figure size 432x288 with 1 Axes>"
      ]
     },
     "metadata": {
      "needs_background": "light"
     },
     "output_type": "display_data"
    }
   ],
   "source": [
    "plt.imshow(~df.isna(), aspect='auto')\n",
    "plt.xlabel(\"variables\")\n",
    "plt.ylabel(\"cases\")\n",
    "plt.gray()\n",
    "plt.show()"
   ]
  },
  {
   "cell_type": "raw",
   "metadata": {},
   "source": [
    "# Example method to run MICE\n",
    "imp = smi.MICEData(df)\n",
    "fm = 'CISO ~ CISO_Lag1 + TIDC + TIDC_Lag1 + LDWP + LDWP_Lag1 + BANC + BANC_Lag1'\n",
    "mmod = smi.MICE(fm, sm.OLS, imp)\n",
    "results = mmod.fit(10, 10)\n",
    "print(results.summary())"
   ]
  },
  {
   "cell_type": "code",
   "execution_count": 9,
   "metadata": {},
   "outputs": [
    {
     "name": "stderr",
     "output_type": "stream",
     "text": [
      "/anaconda3/lib/python3.7/site-packages/statsmodels/imputation/mice.py:1081: FutureWarning: Using a non-tuple sequence for multidimensional indexing is deprecated; use `arr[tuple(seq)]` instead of `arr[seq]`. In the future this will be interpreted as an array index, `arr[np.array(seq)]`, which will result either in an error or a different result.\n",
      "  ix = dxi[[jj, ir]]\n",
      "/anaconda3/lib/python3.7/site-packages/statsmodels/imputation/mice.py:1082: FutureWarning: Using a non-tuple sequence for multidimensional indexing is deprecated; use `arr[tuple(seq)]` instead of `arr[seq]`. In the future this will be interpreted as an array index, `arr[np.array(seq)]`, which will result either in an error or a different result.\n",
      "  iz = ixm[[jj, ix]]\n"
     ]
    }
   ],
   "source": [
    "# Just another method to run MICE\n",
    "imp = smi.MICEData(df)\n",
    "fm = 'CISO ~ CISO_Lag1 + TIDC + TIDC_Lag1 + LDWP + LDWP_Lag1 + BANC + BANC_Lag1'\n",
    "mice = smi.MICE(fm, sm.OLS, imp)\n",
    "results = []\n",
    "for k in range(10):\n",
    "    x = mice.next_sample()\n",
    "    results.append(x)\n",
    "    imp.data.to_csv('data%02d.csv' % len(results))"
   ]
  },
  {
   "cell_type": "code",
   "execution_count": 10,
   "metadata": {},
   "outputs": [],
   "source": [
    "# Impute and save the imputed datasets\n",
    "# Not sure what the burn in is for these\n",
    "imp = smi.MICEData(df)\n",
    "imp.set_imputer('CISO', formula='CISO_Lag1 + TIDC + TIDC_Lag1 + LDWP + LDWP_Lag1 + BANC + BANC_Lag1')\n",
    "for j in range(3):\n",
    "    imp.update_all()\n",
    "    imp.data.to_csv('data%02d.csv' % j)"
   ]
  },
  {
   "cell_type": "raw",
   "metadata": {},
   "source": [
    "## Open a saved csv and check contents\n",
    "\n",
    "dt = pd.read_csv('data00.csv')\n",
    "dt.head()\n",
    "print(dt.isna().sum(axis=0))\n",
    "dt.describe().round(2)"
   ]
  },
  {
   "cell_type": "raw",
   "metadata": {
    "scrolled": true
   },
   "source": [
    "### Many default plots\n",
    "plt.clf()\n",
    "fig = imp.plot_missing_pattern()\n",
    "fig.get_axes()[0].set_title('plot_missing_pattern')\n",
    "plt.savefig('plot_missing_pattern.png')\n",
    "\n",
    "\n",
    "regions = ['CISO', 'TIDC', 'LDWP', 'BANC']\n",
    "for region in regions:\n",
    "    for do_points in True, False:\n",
    "        plt.clf()\n",
    "        fig = imp.plot_fit_obs(region, plot_points=do_points)\n",
    "        fig.get_axes()[0].set_title('plot_fit_obs')\n",
    "        plt.savefig('plot_fit_obs_{}_points_{}.png'.format(region, int(do_points)))\n",
    "    \n",
    "    fig = imp.plot_imputed_hist(region)\n",
    "    fig.get_axes()[0].set_title('plot_imputed_hist')\n",
    "    plt.yscale('log', nonposy='clip')\n",
    "    plt.savefig('plot_imputed_hist_{}.png'.format(region))"
   ]
  },
  {
   "cell_type": "raw",
   "metadata": {},
   "source": [
    "for r1 in regions:\n",
    "    for r2 in regions:\n",
    "        if regions.index(r2) >= regions.index(r1): continue\n",
    "        fig = imp.plot_bivariate(r1, r2)\n",
    "        plt.title('plot_bivariate: {} {}'.format(r1, r2))\n",
    "        plt.tight_layout()\n",
    "        plt.savefig('plot_bivariate_{}_{}.png'.format(r1, r2))\n",
    "        print('finished {} {}'.format(r1, r2))\n",
    "        \n",
    "#imp.plot_bivariate('BANC', 'LDWP')#, lowess_args={'oo':'CISO', 'oi':'BANC'})"
   ]
  },
  {
   "cell_type": "code",
   "execution_count": 11,
   "metadata": {},
   "outputs": [
    {
     "data": {
      "application/json": {
       "Software versions": [
        {
         "module": "Python",
         "version": "3.7.3 64bit [Clang 4.0.1 (tags/RELEASE_401/final)]"
        },
        {
         "module": "IPython",
         "version": "7.4.0"
        },
        {
         "module": "OS",
         "version": "Darwin 18.6.0 x86_64 i386 64bit"
        },
        {
         "module": "pandas",
         "version": "0.24.2"
        },
        {
         "module": "numpy",
         "version": "1.16.2"
        },
        {
         "module": "matplotlib",
         "version": "3.0.3"
        },
        {
         "module": "seaborn",
         "version": "0.9.0"
        },
        {
         "module": "scipy",
         "version": "1.2.1"
        },
        {
         "module": "patsy",
         "version": "0.5.1"
        },
        {
         "module": "statsmodels",
         "version": "0.9.0"
        }
       ]
      },
      "text/html": [
       "<table><tr><th>Software</th><th>Version</th></tr><tr><td>Python</td><td>3.7.3 64bit [Clang 4.0.1 (tags/RELEASE_401/final)]</td></tr><tr><td>IPython</td><td>7.4.0</td></tr><tr><td>OS</td><td>Darwin 18.6.0 x86_64 i386 64bit</td></tr><tr><td>pandas</td><td>0.24.2</td></tr><tr><td>numpy</td><td>1.16.2</td></tr><tr><td>matplotlib</td><td>3.0.3</td></tr><tr><td>seaborn</td><td>0.9.0</td></tr><tr><td>scipy</td><td>1.2.1</td></tr><tr><td>patsy</td><td>0.5.1</td></tr><tr><td>statsmodels</td><td>0.9.0</td></tr><tr><td colspan='2'>Tue Aug 13 09:54:09 2019 PDT</td></tr></table>"
      ],
      "text/latex": [
       "\\begin{tabular}{|l|l|}\\hline\n",
       "{\\bf Software} & {\\bf Version} \\\\ \\hline\\hline\n",
       "Python & 3.7.3 64bit [Clang 4.0.1 (tags/RELEASE\\_401/final)] \\\\ \\hline\n",
       "IPython & 7.4.0 \\\\ \\hline\n",
       "OS & Darwin 18.6.0 x86\\_64 i386 64bit \\\\ \\hline\n",
       "pandas & 0.24.2 \\\\ \\hline\n",
       "numpy & 1.16.2 \\\\ \\hline\n",
       "matplotlib & 3.0.3 \\\\ \\hline\n",
       "seaborn & 0.9.0 \\\\ \\hline\n",
       "scipy & 1.2.1 \\\\ \\hline\n",
       "patsy & 0.5.1 \\\\ \\hline\n",
       "statsmodels & 0.9.0 \\\\ \\hline\n",
       "\\hline \\multicolumn{2}{|l|}{Tue Aug 13 09:54:09 2019 PDT} \\\\ \\hline\n",
       "\\end{tabular}\n"
      ],
      "text/plain": [
       "Software versions\n",
       "Python 3.7.3 64bit [Clang 4.0.1 (tags/RELEASE_401/final)]\n",
       "IPython 7.4.0\n",
       "OS Darwin 18.6.0 x86_64 i386 64bit\n",
       "pandas 0.24.2\n",
       "numpy 1.16.2\n",
       "matplotlib 3.0.3\n",
       "seaborn 0.9.0\n",
       "scipy 1.2.1\n",
       "patsy 0.5.1\n",
       "statsmodels 0.9.0\n",
       "Tue Aug 13 09:54:09 2019 PDT"
      ]
     },
     "execution_count": 11,
     "metadata": {},
     "output_type": "execute_result"
    }
   ],
   "source": [
    "%load_ext version_information\n",
    "%version_information pandas, numpy, matplotlib, seaborn, scipy, patsy, statsmodels"
   ]
  },
  {
   "cell_type": "code",
   "execution_count": null,
   "metadata": {},
   "outputs": [],
   "source": []
  }
 ],
 "metadata": {
  "kernelspec": {
   "display_name": "Python 3",
   "language": "python",
   "name": "python3"
  },
  "language_info": {
   "codemirror_mode": {
    "name": "ipython",
    "version": 3
   },
   "file_extension": ".py",
   "mimetype": "text/x-python",
   "name": "python",
   "nbconvert_exporter": "python",
   "pygments_lexer": "ipython3",
   "version": "3.7.3"
  }
 },
 "nbformat": 4,
 "nbformat_minor": 2
}
