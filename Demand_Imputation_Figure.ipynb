{
 "cells": [
  {
   "cell_type": "code",
   "execution_count": null,
   "metadata": {},
   "outputs": [],
   "source": [
    "import pandas as pd\n",
    "import numpy as np\n",
    "import matplotlib.pyplot as plt\n",
    "from datetime import date, time, datetime, timedelta\n",
    "import matplotlib\n",
    "from helpers import return_good_regions\n",
    "import pickle"
   ]
  },
  {
   "cell_type": "code",
   "execution_count": null,
   "metadata": {},
   "outputs": [],
   "source": [
    "base = '/Users/truggles/Downloads/for_tyler_Oct07_overimputes/'\n",
    "\n",
    "df = pd.read_csv(base+'csv_MASTER_v12_2day.csv')\n",
    "df['date_time'] = pd.to_datetime(df['date_time'])\n",
    "df = df.drop(['SEC','SEC_category','OVEC','OVEC_category'], axis=1)\n",
    "\n",
    "# Drop all *_category instances\n",
    "regions = return_good_regions()\n",
    "r_cats = [f'{r}_category' for r in regions]\n",
    "df = df.drop(r_cats, axis=1)\n",
    "df.head()"
   ]
  },
  {
   "cell_type": "code",
   "execution_count": null,
   "metadata": {},
   "outputs": [],
   "source": [
    "# Normalize all columns\n",
    "def normalize_each_column(df, cols):\n",
    "    for col in cols:\n",
    "        df[col] = df[col] / np.nanmean(df[col])\n",
    "    return df\n",
    "\n",
    "print(df['AECI'])\n",
    "df = normalize_each_column(df, regions)\n",
    "print(df['AECI'])"
   ]
  },
  {
   "cell_type": "code",
   "execution_count": null,
   "metadata": {},
   "outputs": [],
   "source": [
    "def find_datetime_index(df, dt_target):\n",
    "    \n",
    "    if type(dt_target) == str:\n",
    "        dt_target = datetime.strptime(dt_target, '%Y%m%dT%HZ')\n",
    "    \n",
    "    \n",
    "    for idx in df.index:\n",
    "        dt = df.loc[idx, 'date_time']\n",
    "        #print(dt)\n",
    "        if dt.year == dt_target.year and \\\n",
    "                dt.month == dt_target.month and \\\n",
    "                dt.day == dt_target.day and \\\n",
    "                dt.hour == dt_target.hour:\n",
    "            print(f\"{dt_target} at index {idx}\")\n",
    "            return idx, dt_target\n",
    "    print(f\"No datetime found in find_datetime_index for {dt_target}\")\n",
    "\n",
    "def plot_2D_range(df, cols, start_dt_str, length_dt):\n",
    "    \n",
    "    start_idx, start_dt = find_datetime_index(df, start_dt_str)\n",
    "    end_dt = start_dt + timedelta(days=length_dt)\n",
    "    end_idx, end_dt = find_datetime_index(df, end_dt)\n",
    "    \n",
    "    fig, ax = plt.subplots(figsize=(12,4))\n",
    "    im = ax.imshow(df.loc[start_idx:end_idx, cols], interpolation='none', origin='lower', aspect='auto')\n",
    "\n",
    "    # Axis ticks\n",
    "    plt.xticks(np.arange(54), cols, rotation=90)\n",
    "    dts = []\n",
    "    for i in range(length_dt+1):\n",
    "        dts.append(start_dt + timedelta(days=i))\n",
    "    plt.yticks(np.arange(0, length_dt*24+1, 24), dts)\n",
    "\n",
    "    cbar = ax.figure.colorbar(im)\n",
    "    cbar.ax.set_ylabel(\"Normalized Demand\")\n",
    "    plt.tight_layout()\n",
    "    plt.savefig(\"plot_2D_slice_{}_plus_{}_days.png\".format(start_dt_str, length_dt))\n",
    "\n",
    "\n",
    "plot_2D_range(df, regions, '20180115T00Z', 7)\n",
    "plot_2D_range(df, regions, '20180415T00Z', 7)\n",
    "plot_2D_range(df, regions, '20180715T00Z', 7)\n",
    "plot_2D_range(df, regions, '20181015T00Z', 7)"
   ]
  },
  {
   "cell_type": "code",
   "execution_count": null,
   "metadata": {},
   "outputs": [],
   "source": []
  }
 ],
 "metadata": {
  "kernelspec": {
   "display_name": "Python 3",
   "language": "python",
   "name": "python3"
  },
  "language_info": {
   "codemirror_mode": {
    "name": "ipython",
    "version": 3
   },
   "file_extension": ".py",
   "mimetype": "text/x-python",
   "name": "python",
   "nbconvert_exporter": "python",
   "pygments_lexer": "ipython3",
   "version": "3.7.3"
  }
 },
 "nbformat": 4,
 "nbformat_minor": 2
}
