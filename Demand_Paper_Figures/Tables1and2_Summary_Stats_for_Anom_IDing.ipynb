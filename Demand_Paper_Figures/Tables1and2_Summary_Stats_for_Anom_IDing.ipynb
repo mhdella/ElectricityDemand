{
 "cells": [
  {
   "cell_type": "code",
   "execution_count": 1,
   "metadata": {},
   "outputs": [],
   "source": [
    "import pandas as pd\n",
    "import numpy as np"
   ]
  },
  {
   "cell_type": "code",
   "execution_count": 9,
   "metadata": {},
   "outputs": [
    {
     "name": "stdout",
     "output_type": "stream",
     "text": [
      "43848\n",
      "OKAY, 2366920, 0.999632\n",
      "MISSING, 0, 0.0\n",
      "NEG_OR_ZERO, 0, 0.0\n",
      "GLOBAL_DEM, 0, 0.0\n",
      "GLOBAL_DEM_PLUS_MINUS, 0, 0.0\n",
      "LOCAL_DEM_UP, 4, 2e-06\n",
      "LOCAL_DEM_DOWN, 16, 7e-06\n",
      "DELTA, 67, 2.8e-05\n",
      "SINGLE_DELTA, 15, 6e-06\n",
      "IDENTICAL_RUN, 735, 0.00031\n",
      "ANOMALOUS_REGION, 35, 1.5e-05\n",
      "TOTAL 2367792\n"
     ]
    },
    {
     "data": {
      "text/plain": [
       "2345868.0"
      ]
     },
     "execution_count": 9,
     "metadata": {},
     "output_type": "execute_result"
    }
   ],
   "source": [
    "df = pd.read_csv('/Users/truggles/EIA_Cleaned_Hourly_Electricity_Demand_Code/data2/csv_MASTER.csv')\n",
    "df = df.drop(['SEC', 'SEC_category', 'OVEC', 'OVEC_category'], axis=1)\n",
    "print(len(df.index))\n",
    "\n",
    "tot = 0\n",
    "rec = []\n",
    "TYPEs = ['OKAY', 'MISSING', 'NEG_OR_ZERO', 'GLOBAL_DEM', \n",
    "             'GLOBAL_DEM_PLUS_MINUS', 'LOCAL_DEM_UP', 'LOCAL_DEM_DOWN',\n",
    "            'DELTA', 'SINGLE_DELTA', 'IDENTICAL_RUN', 'ANOMALOUS_REGION']\n",
    "for TYPE in TYPEs:\n",
    "    s = np.where(df == TYPE, 1, 0).sum()\n",
    "    tot += s\n",
    "    rec.append(s)\n",
    "for TYPE, val in zip(TYPEs, rec):\n",
    "    print(f\"{TYPE}, {val}, {round(val/tot, 6)}\")\n",
    "print(\"TOTAL\", tot)\n",
    "\n",
    "len(df.index) * (len(df.columns)-1)/2"
   ]
  },
  {
   "cell_type": "code",
   "execution_count": 8,
   "metadata": {
    "scrolled": true
   },
   "outputs": [
    {
     "name": "stdout",
     "output_type": "stream",
     "text": [
      "43848\n",
      "OKAY, 2315573, 0.977946\n",
      "MISSING, 42260, 0.017848\n",
      "NEG_OR_ZERO, 1090, 0.00046\n",
      "GLOBAL_DEM, 192, 8.1e-05\n",
      "GLOBAL_DEM_PLUS_MINUS, 310, 0.000131\n",
      "LOCAL_DEM_UP, 368, 0.000155\n",
      "LOCAL_DEM_DOWN, 399, 0.000169\n",
      "DELTA, 1355, 0.000572\n",
      "SINGLE_DELTA, 216, 9.1e-05\n",
      "IDENTICAL_RUN, 4129, 0.001744\n",
      "ANOMALOUS_REGION, 1900, 0.000802\n",
      "TOTAL 2367792\n"
     ]
    },
    {
     "data": {
      "text/plain": [
       "2367792.0"
      ]
     },
     "execution_count": 8,
     "metadata": {},
     "output_type": "execute_result"
    }
   ],
   "source": [
    "df = pd.read_csv('/Users/truggles/EIA_Cleaned_Hourly_Electricity_Demand_Code/data/csv_MASTER_28Sept2020_rm1July2015.csv') # Make sure to select desired date range\n",
    "df = df.drop(['SEC', 'SEC_category', 'OVEC', 'OVEC_category'], axis=1)\n",
    "print(len(df.index))\n",
    "\n",
    "tot = 0\n",
    "rec = []\n",
    "TYPEs = ['OKAY', 'MISSING', 'NEG_OR_ZERO', 'GLOBAL_DEM', \n",
    "             'GLOBAL_DEM_PLUS_MINUS', 'LOCAL_DEM_UP', 'LOCAL_DEM_DOWN',\n",
    "            'DELTA', 'SINGLE_DELTA', 'IDENTICAL_RUN', 'ANOMALOUS_REGION']\n",
    "for TYPE in TYPEs:\n",
    "    s = np.where(df == TYPE, 1, 0).sum()\n",
    "    tot += s\n",
    "    rec.append(s)\n",
    "for TYPE, val in zip(TYPEs, rec):\n",
    "    print(f\"{TYPE}, {val}, {round(val/tot, 6)}\")\n",
    "print(\"TOTAL\", tot)\n",
    "\n",
    "len(df.index) * (len(df.columns)-1)/2"
   ]
  },
  {
   "cell_type": "code",
   "execution_count": null,
   "metadata": {},
   "outputs": [],
   "source": []
  }
 ],
 "metadata": {
  "kernelspec": {
   "display_name": "Python 3",
   "language": "python",
   "name": "python3"
  },
  "language_info": {
   "codemirror_mode": {
    "name": "ipython",
    "version": 3
   },
   "file_extension": ".py",
   "mimetype": "text/x-python",
   "name": "python",
   "nbconvert_exporter": "python",
   "pygments_lexer": "ipython3",
   "version": "3.7.4"
  }
 },
 "nbformat": 4,
 "nbformat_minor": 2
}
