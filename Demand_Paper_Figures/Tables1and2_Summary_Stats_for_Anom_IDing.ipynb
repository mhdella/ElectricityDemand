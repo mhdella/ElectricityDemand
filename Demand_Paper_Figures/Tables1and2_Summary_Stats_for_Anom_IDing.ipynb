{
 "cells": [
  {
   "cell_type": "code",
   "execution_count": 1,
   "metadata": {},
   "outputs": [],
   "source": [
    "import pandas as pd\n",
    "import numpy as np"
   ]
  },
  {
   "cell_type": "code",
   "execution_count": 5,
   "metadata": {},
   "outputs": [
    {
     "name": "stdout",
     "output_type": "stream",
     "text": [
      "OKAY, 1892801, 0.999654\n",
      "MISSING, 0, 0.0\n",
      "NEG_OR_ZERO, 0, 0.0\n",
      "GLOBAL_DEM, 0, 0.0\n",
      "GLOBAL_DEM_PLUS_MINUS, 0, 0.0\n",
      "LOCAL_DEM_UP, 5, 3e-06\n",
      "LOCAL_DEM_DOWN, 14, 7e-06\n",
      "DELTA, 27, 1.4e-05\n",
      "SINGLE_DELTA, 15, 8e-06\n",
      "IDENTICAL_RUN, 562, 0.000297\n",
      "ANOMALOUS_REGION, 32, 1.7e-05\n",
      "TOTAL 1893456\n"
     ]
    },
    {
     "data": {
      "text/plain": [
       "1893456.0"
      ]
     },
     "execution_count": 5,
     "metadata": {},
     "output_type": "execute_result"
    }
   ],
   "source": [
    "df = pd.read_csv('/Users/truggles/tmp_dataJan22/csv_MASTER_XXX_v12_2day_VandV_Jan22.csv')\n",
    "\n",
    "tot = 0\n",
    "rec = []\n",
    "TYPEs = ['OKAY', 'MISSING', 'NEG_OR_ZERO', 'GLOBAL_DEM', \n",
    "             'GLOBAL_DEM_PLUS_MINUS', 'LOCAL_DEM_UP', 'LOCAL_DEM_DOWN',\n",
    "            'DELTA', 'SINGLE_DELTA', 'IDENTICAL_RUN', 'ANOMALOUS_REGION']\n",
    "for TYPE in TYPEs:\n",
    "    s = np.where(df == TYPE, 1, 0).sum()\n",
    "    tot += s\n",
    "    rec.append(s)\n",
    "for TYPE, val in zip(TYPEs, rec):\n",
    "    print(f\"{TYPE}, {val}, {round(val/tot, 6)}\")\n",
    "print(\"TOTAL\", tot)\n",
    "\n",
    "len(df.index) * (len(df.columns)-1)/2"
   ]
  },
  {
   "cell_type": "code",
   "execution_count": 4,
   "metadata": {
    "scrolled": true
   },
   "outputs": [
    {
     "name": "stdout",
     "output_type": "stream",
     "text": [
      "OKAY, 1843424, 0.973576\n",
      "MISSING, 41015, 0.021661\n",
      "NEG_OR_ZERO, 863, 0.000456\n",
      "GLOBAL_DEM, 170, 9e-05\n",
      "GLOBAL_DEM_PLUS_MINUS, 285, 0.000151\n",
      "LOCAL_DEM_UP, 315, 0.000166\n",
      "LOCAL_DEM_DOWN, 356, 0.000188\n",
      "DELTA, 1212, 0.00064\n",
      "SINGLE_DELTA, 182, 9.6e-05\n",
      "IDENTICAL_RUN, 3861, 0.002039\n",
      "ANOMALOUS_REGION, 1773, 0.000936\n",
      "TOTAL 1893456\n"
     ]
    },
    {
     "data": {
      "text/plain": [
       "1893456.0"
      ]
     },
     "execution_count": 4,
     "metadata": {},
     "output_type": "execute_result"
    }
   ],
   "source": [
    "df = pd.read_csv('~/Downloads/overimpute_Jan_2020_All_Files/csv_MASTER_v12_2day_dropped.csv')\n",
    "df = df.drop(['SEC', 'SEC_category', 'OVEC', 'OVEC_category'], axis=1)\n",
    "\n",
    "\n",
    "tot = 0\n",
    "rec = []\n",
    "TYPEs = ['OKAY', 'MISSING', 'NEG_OR_ZERO', 'GLOBAL_DEM', \n",
    "             'GLOBAL_DEM_PLUS_MINUS', 'LOCAL_DEM_UP', 'LOCAL_DEM_DOWN',\n",
    "            'DELTA', 'SINGLE_DELTA', 'IDENTICAL_RUN', 'ANOMALOUS_REGION']\n",
    "for TYPE in TYPEs:\n",
    "    s = np.where(df == TYPE, 1, 0).sum()\n",
    "    tot += s\n",
    "    rec.append(s)\n",
    "for TYPE, val in zip(TYPEs, rec):\n",
    "    print(f\"{TYPE}, {val}, {round(val/tot, 6)}\")\n",
    "print(\"TOTAL\", tot)\n",
    "\n",
    "len(df.index) * (len(df.columns)-1)/2"
   ]
  },
  {
   "cell_type": "code",
   "execution_count": 6,
   "metadata": {},
   "outputs": [
    {
     "name": "stdout",
     "output_type": "stream",
     "text": [
      "OKAY, 1854722, 0.961733\n",
      "MISSING, 54612, 0.028318\n",
      "NEG_OR_ZERO, 3043, 0.001578\n",
      "GLOBAL_DEM, 170, 8.8e-05\n",
      "GLOBAL_DEM_PLUS_MINUS, 285, 0.000148\n",
      "LOCAL_DEM_UP, 346, 0.000179\n",
      "LOCAL_DEM_DOWN, 362, 0.000188\n",
      "DELTA, 1264, 0.000655\n",
      "SINGLE_DELTA, 182, 9.4e-05\n",
      "IDENTICAL_RUN, 11648, 0.00604\n",
      "ANOMALOUS_REGION, 1886, 0.000978\n",
      "TOTAL 1928520\n"
     ]
    },
    {
     "data": {
      "text/plain": [
       "1928520.0"
      ]
     },
     "execution_count": 6,
     "metadata": {},
     "output_type": "execute_result"
    }
   ],
   "source": [
    "### FOR OVEC\n",
    "df = pd.read_csv('~/Downloads/overimpute_Jan_2020_All_Files/csv_MASTER_v12_2day_dropped.csv')\n",
    "df = df.drop(['SEC', 'SEC_category'], axis=1)\n",
    "\n",
    "\n",
    "tot = 0\n",
    "rec = []\n",
    "TYPEs = ['OKAY', 'MISSING', 'NEG_OR_ZERO', 'GLOBAL_DEM', \n",
    "             'GLOBAL_DEM_PLUS_MINUS', 'LOCAL_DEM_UP', 'LOCAL_DEM_DOWN',\n",
    "            'DELTA', 'SINGLE_DELTA', 'IDENTICAL_RUN', 'ANOMALOUS_REGION']\n",
    "for TYPE in TYPEs:\n",
    "    s = np.where(df == TYPE, 1, 0).sum()\n",
    "    tot += s\n",
    "    rec.append(s)\n",
    "for TYPE, val in zip(TYPEs, rec):\n",
    "    print(f\"{TYPE}, {val}, {round(val/tot, 6)}\")\n",
    "print(\"TOTAL\", tot)\n",
    "\n",
    "len(df.index) * (len(df.columns)-1)/2"
   ]
  },
  {
   "cell_type": "code",
   "execution_count": 7,
   "metadata": {},
   "outputs": [
    {
     "name": "stdout",
     "output_type": "stream",
     "text": [
      "OKAY, 1871793, 0.970585\n",
      "MISSING, 41735, 0.021641\n",
      "NEG_OR_ZERO, 4726, 0.002451\n",
      "GLOBAL_DEM, 220, 0.000114\n",
      "GLOBAL_DEM_PLUS_MINUS, 350, 0.000181\n",
      "LOCAL_DEM_UP, 396, 0.000205\n",
      "LOCAL_DEM_DOWN, 369, 0.000191\n",
      "DELTA, 1278, 0.000663\n",
      "SINGLE_DELTA, 194, 0.000101\n",
      "IDENTICAL_RUN, 3903, 0.002024\n",
      "ANOMALOUS_REGION, 3556, 0.001844\n",
      "TOTAL 1928520\n"
     ]
    },
    {
     "data": {
      "text/plain": [
       "1928520.0"
      ]
     },
     "execution_count": 7,
     "metadata": {},
     "output_type": "execute_result"
    }
   ],
   "source": [
    "### FOR SEC\n",
    "df = pd.read_csv('~/Downloads/overimpute_Jan_2020_All_Files/csv_MASTER_v12_2day_dropped.csv')\n",
    "df = df.drop(['OVEC', 'OVEC_category'], axis=1)\n",
    "\n",
    "\n",
    "tot = 0\n",
    "rec = []\n",
    "TYPEs = ['OKAY', 'MISSING', 'NEG_OR_ZERO', 'GLOBAL_DEM', \n",
    "             'GLOBAL_DEM_PLUS_MINUS', 'LOCAL_DEM_UP', 'LOCAL_DEM_DOWN',\n",
    "            'DELTA', 'SINGLE_DELTA', 'IDENTICAL_RUN', 'ANOMALOUS_REGION']\n",
    "for TYPE in TYPEs:\n",
    "    s = np.where(df == TYPE, 1, 0).sum()\n",
    "    tot += s\n",
    "    rec.append(s)\n",
    "for TYPE, val in zip(TYPEs, rec):\n",
    "    print(f\"{TYPE}, {val}, {round(val/tot, 6)}\")\n",
    "print(\"TOTAL\", tot)\n",
    "\n",
    "len(df.index) * (len(df.columns)-1)/2"
   ]
  },
  {
   "cell_type": "code",
   "execution_count": null,
   "metadata": {},
   "outputs": [],
   "source": []
  }
 ],
 "metadata": {
  "kernelspec": {
   "display_name": "Python 3",
   "language": "python",
   "name": "python3"
  },
  "language_info": {
   "codemirror_mode": {
    "name": "ipython",
    "version": 3
   },
   "file_extension": ".py",
   "mimetype": "text/x-python",
   "name": "python",
   "nbconvert_exporter": "python",
   "pygments_lexer": "ipython3",
   "version": "3.7.4"
  }
 },
 "nbformat": 4,
 "nbformat_minor": 2
}
