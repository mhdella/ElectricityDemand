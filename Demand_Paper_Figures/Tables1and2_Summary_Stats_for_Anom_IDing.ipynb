{
 "cells": [
  {
   "cell_type": "code",
   "execution_count": 2,
   "metadata": {},
   "outputs": [],
   "source": [
    "import pandas as pd\n",
    "import numpy as np"
   ]
  },
  {
   "cell_type": "code",
   "execution_count": 3,
   "metadata": {},
   "outputs": [
    {
     "name": "stderr",
     "output_type": "stream",
     "text": [
      "/anaconda3/lib/python3.7/site-packages/pandas/core/ops/__init__.py:1115: FutureWarning: elementwise comparison failed; returning scalar instead, but in the future will perform elementwise comparison\n",
      "  result = method(y)\n"
     ]
    },
    {
     "name": "stdout",
     "output_type": "stream",
     "text": [
      "OKAY, 1892736, 0.99962\n",
      "MISSING, 0, 0.0\n",
      "NEG_OR_ZERO, 0, 0.0\n",
      "GLOBAL_DEM, 0, 0.0\n",
      "GLOBAL_DEM_PLUS_MINUS, 0, 0.0\n",
      "LOCAL_DEM_UP, 6, 3e-06\n",
      "LOCAL_DEM_DOWN, 17, 9e-06\n",
      "DELTA, 28, 1.5e-05\n",
      "SINGLE_DELTA, 15, 8e-06\n",
      "IDENTICAL_RUN, 608, 0.000321\n",
      "ANOMALOUS_REGION, 46, 2.4e-05\n",
      "TOTAL 1893456\n"
     ]
    },
    {
     "data": {
      "text/plain": [
       "1893456.0"
      ]
     },
     "execution_count": 3,
     "metadata": {},
     "output_type": "execute_result"
    }
   ],
   "source": [
    "df = pd.read_csv('/Users/truggles/Downloads/csv_MASTER_SDate_Revisions_Feb20_2ndScreening.csv')\n",
    "print(len(df.index))\n",
    "\n",
    "tot = 0\n",
    "rec = []\n",
    "TYPEs = ['OKAY', 'MISSING', 'NEG_OR_ZERO', 'GLOBAL_DEM', \n",
    "             'GLOBAL_DEM_PLUS_MINUS', 'LOCAL_DEM_UP', 'LOCAL_DEM_DOWN',\n",
    "            'DELTA', 'SINGLE_DELTA', 'IDENTICAL_RUN', 'ANOMALOUS_REGION']\n",
    "for TYPE in TYPEs:\n",
    "    s = np.where(df == TYPE, 1, 0).sum()\n",
    "    tot += s\n",
    "    rec.append(s)\n",
    "for TYPE, val in zip(TYPEs, rec):\n",
    "    print(f\"{TYPE}, {val}, {round(val/tot, 6)}\")\n",
    "print(\"TOTAL\", tot)\n",
    "\n",
    "len(df.index) * (len(df.columns)-1)/2"
   ]
  },
  {
   "cell_type": "code",
   "execution_count": 4,
   "metadata": {
    "scrolled": true
   },
   "outputs": [
    {
     "name": "stdout",
     "output_type": "stream",
     "text": [
      "35064\n",
      "OKAY, 1843425, 0.973577\n",
      "MISSING, 41015, 0.021661\n",
      "NEG_OR_ZERO, 863, 0.000456\n",
      "GLOBAL_DEM, 170, 9e-05\n",
      "GLOBAL_DEM_PLUS_MINUS, 285, 0.000151\n",
      "LOCAL_DEM_UP, 315, 0.000166\n",
      "LOCAL_DEM_DOWN, 356, 0.000188\n",
      "DELTA, 1212, 0.00064\n",
      "SINGLE_DELTA, 181, 9.6e-05\n",
      "IDENTICAL_RUN, 3861, 0.002039\n",
      "ANOMALOUS_REGION, 1773, 0.000936\n",
      "TOTAL 1893456\n"
     ]
    },
    {
     "data": {
      "text/plain": [
       "1893456.0"
      ]
     },
     "execution_count": 4,
     "metadata": {},
     "output_type": "execute_result"
    }
   ],
   "source": [
    "df = pd.read_csv('~/Downloads/csv_MASTER_SData_Revisions_Feb20_part.csv') # Make sure to select desired date range\n",
    "df = df.drop(['SEC', 'SEC_category', 'OVEC', 'OVEC_category'], axis=1)\n",
    "print(len(df.index))\n",
    "\n",
    "tot = 0\n",
    "rec = []\n",
    "TYPEs = ['OKAY', 'MISSING', 'NEG_OR_ZERO', 'GLOBAL_DEM', \n",
    "             'GLOBAL_DEM_PLUS_MINUS', 'LOCAL_DEM_UP', 'LOCAL_DEM_DOWN',\n",
    "            'DELTA', 'SINGLE_DELTA', 'IDENTICAL_RUN', 'ANOMALOUS_REGION']\n",
    "for TYPE in TYPEs:\n",
    "    s = np.where(df == TYPE, 1, 0).sum()\n",
    "    tot += s\n",
    "    rec.append(s)\n",
    "for TYPE, val in zip(TYPEs, rec):\n",
    "    print(f\"{TYPE}, {val}, {round(val/tot, 6)}\")\n",
    "print(\"TOTAL\", tot)\n",
    "\n",
    "len(df.index) * (len(df.columns)-1)/2"
   ]
  }
 ],
 "metadata": {
  "kernelspec": {
   "display_name": "Python 3",
   "language": "python",
   "name": "python3"
  },
  "language_info": {
   "codemirror_mode": {
    "name": "ipython",
    "version": 3
   },
   "file_extension": ".py",
   "mimetype": "text/x-python",
   "name": "python",
   "nbconvert_exporter": "python",
   "pygments_lexer": "ipython3",
   "version": "3.7.4"
  }
 },
 "nbformat": 4,
 "nbformat_minor": 2
}
