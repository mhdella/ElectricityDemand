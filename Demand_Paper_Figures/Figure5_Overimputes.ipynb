{
 "cells": [
  {
   "cell_type": "markdown",
   "metadata": {},
   "source": [
    "# For Demand Imputation Paper\n",
    "\n",
    "The most final overimputation files provided by Dave F. are in `Oct5_Overimputations.zip` in my google drive `My Drive/Demand_Imputation/`"
   ]
  },
  {
   "cell_type": "code",
   "execution_count": 1,
   "metadata": {},
   "outputs": [
    {
     "name": "stdout",
     "output_type": "stream",
     "text": [
      "# packages in environment at /anaconda3:\r\n",
      "#\r\n",
      "# Name                    Version                   Build  Channel\r\n",
      "matplotlib                3.1.1            py37h54f8f79_0    anaconda\r\n"
     ]
    }
   ],
   "source": [
    "import pandas as pd\n",
    "import numpy as np\n",
    "import matplotlib.pyplot as plt\n",
    "import statsmodels.api as sm\n",
    "import statsmodels.formula.api as smf\n",
    "import statsmodels.imputation.mice as smi\n",
    "import copy\n",
    "import datetime\n",
    "import matplotlib.dates as mdates\n",
    "import matplotlib\n",
    "from matplotlib.ticker import MultipleLocator\n",
    "!conda list matplotlib"
   ]
  },
  {
   "cell_type": "code",
   "execution_count": 16,
   "metadata": {},
   "outputs": [],
   "source": [
    "# Load with various verbose summaries\n",
    "def load_csv(file_path, columns, na_vals=['NA',], parse_d=True, verbose=0):\n",
    "    dtype_map = {}\n",
    "    for col in columns:\n",
    "        dtype_map[col] = np.float64\n",
    "    df = pd.read_csv(file_path,\n",
    "                    dtype=dtype_map,\n",
    "                    parse_dates=parse_d,\n",
    "                    na_values=na_vals)\n",
    "    if verbose >= 1:\n",
    "        #print(\"\\nHead(10)\")\n",
    "        #print(df.head(10))\n",
    "        print(\"\\nDescribe\")\n",
    "        print(df.describe().round(2))\n",
    "        print(\"\\ndf.isna().sum(axis=0)\")\n",
    "        print(df.isna().sum(axis=0))\n",
    "    if verbose >= 2:\n",
    "        plt.imshow(~df.isna(), aspect='auto')\n",
    "        plt.xlabel(\"variables\")\n",
    "        plt.ylabel(\"cases\")\n",
    "        plt.gray()\n",
    "        plt.show()\n",
    "    if 'date_time' in df.columns:\n",
    "        df['date_time'] = pd.to_datetime(df['date_time'])\n",
    "    return df\n",
    "\n",
    "\n",
    "def add_lags(df, regions):\n",
    "    for r in regions:\n",
    "        print(\"Adding lag for region {}\".format(r))\n",
    "        kwargs = {\n",
    "                 '{}_Lag1'.format(r) : lambda x: np.roll(df[r], +1),\n",
    "             }\n",
    "        df = df.assign(**kwargs)\n",
    "    return df\n",
    "\n",
    "def drop_col(df, col):\n",
    "    return df.drop(col, axis=1)\n",
    "\n",
    "\n",
    "def return_imputed_indices(raw, name):\n",
    "    index = pd.isnull(raw[name]).nonzero()[0]\n",
    "    return index\n",
    "\n",
    "def get_overimpute_index(raw, imp, col):\n",
    "    init_nan = return_imputed_indices(raw, col)\n",
    "    init_nan_set = set()\n",
    "    for i in init_nan:\n",
    "        init_nan_set.add(i)\n",
    "    \n",
    "    over_nan = return_imputed_indices(imp, col)\n",
    "    over_nan_set = set()\n",
    "    for i in over_nan:\n",
    "        over_nan_set.add(i)\n",
    "    \n",
    "    return np.array(list(over_nan_set.difference(init_nan_set)))\n",
    "\n",
    "def split_index_into_sort_and_long_gaps(index):\n",
    "    short = []\n",
    "    long = []\n",
    "    index.sort()\n",
    "    prev_was_short = False\n",
    "    for i in range(len(index)-2): # Can't compare the last one like this\n",
    "        if index[i+1] == index[i] + 1 and index[i+2] == index[i] + 2:\n",
    "            long.append(index[i])\n",
    "            prev_was_short = False\n",
    "        else:\n",
    "            short.append(index[i])\n",
    "            prev_was_short = True\n",
    "    if prev_was_short:\n",
    "        short.append(index[-2])\n",
    "        short.append(index[-1])\n",
    "    else:\n",
    "        long.append(index[-2])\n",
    "        long.append(index[-1])\n",
    "    return short, long\n",
    "            \n",
    "    \n",
    "\n",
    "    \n",
    "def return_values_by_index(imp, indices, name, replace_nan_with_zero=True):\n",
    "    vals = imp.loc[indices, name]\n",
    "    if replace_nan_with_zero:\n",
    "        vals = vals.fillna(0)\n",
    "    if len(vals) == 0:\n",
    "        print(\"return_values_by_index returned ZERO values\")\n",
    "    return vals\n",
    "\n",
    "def comparison_demand_plot(region, original, imp, imp_up, iqr_high, iqr_low, imp_down, imp_name, title, save, o_max):\n",
    "    \n",
    "    plt.close()\n",
    "    matplotlib.rcParams.update({'font.size': 22})\n",
    "    fig, ax = plt.subplots(figsize=(15,9))\n",
    "    plt.subplots_adjust(left=.15, bottom=0.25, top=0.97, right=0.95)\n",
    "    ax.set_ylabel('Demand (MW)')\n",
    "    ax.yaxis.set_major_formatter(matplotlib.ticker.StrMethodFormatter('{x:,.0f}'))\n",
    "    #plt.title(title)\n",
    "    ax.plot(original['date_time'], original[region], 'k-', label='Demand', linewidth=3.0)\n",
    "    ax.plot(original['date_time'], imp, 'r-', label='Imputed mean demand', linewidth=2.0)\n",
    "    ax.fill_between(original['date_time'], imp_down, imp_up, facecolor='orange', alpha=0.6, label='Full imputed range')\n",
    "    ax.fill_between(original['date_time'], iqr_low, iqr_high, facecolor='blue', label='IQR of imputed range')\n",
    "    ax.plot(original['date_time'], original[region], 'k-', label='_nolegend_', linewidth=3.0)\n",
    "    #ax.set_ylim(0, o_max*1.3)\n",
    "    ax.set_ylim(0, ax.get_ylim()[1]*1.3)\n",
    "    plt.legend(prop={'size': 24})  \n",
    "    ax.xaxis.set_major_locator(mdates.DayLocator())\n",
    "    ax.xaxis.set_major_formatter(mdates.DateFormatter('%a\\n%Y-%m-%d'))\n",
    "    plt.setp( ax.xaxis.get_majorticklabels(), rotation=90 )\n",
    "    #ax.xaxis.set_minor_locator(mdates.DayLocator())\n",
    "    ax.set_ylim(min(ax.get_ylim()[0], 0), ax.get_ylim()[1])\n",
    "    #plt.tight_layout()\n",
    "    plt.grid()\n",
    "    plt.savefig(save+'.pdf')\n",
    "\n",
    "# Create many demand plots so we can actually see the values\n",
    "def scrolling_demand(width, region, original, imps, imp_mean, imp_name, title, save, tgt_itr=-1):\n",
    "    start = 0\n",
    "    end = width-1\n",
    "    if region == 'CISO':\n",
    "        start += 120\n",
    "        end += 120\n",
    "    k = 0\n",
    "    tot_l = len(original.index)\n",
    "    o_max = np.nanmax(original[region])\n",
    "    while True:\n",
    "        print(k, start, end)\n",
    "        s = save.replace('.pdf', '_{}cnt'.format(k))\n",
    "        t = title+': cnt {}'.format(k)\n",
    "        o = original.loc[start:end]\n",
    "        imp_avg = imp_mean.loc[start:end]\n",
    "        \n",
    "        \n",
    "        # Max and min\n",
    "        imp_max = []\n",
    "        iqr_high = []\n",
    "        iqr_low = []\n",
    "        imp_min = []\n",
    "        end_l = end if end == len(original.index) else end+1\n",
    "        \n",
    "        if tgt_itr == -1 or k == tgt_itr:\n",
    "            for j in range(start, end_l):\n",
    "            \n",
    "                #print(j)\n",
    "                vals = []\n",
    "            \n",
    "                for cnt, imp in enumerate(imps):\n",
    "                    #print(f\"{j} {cnt} --- max {max_}: min {min_}\")\n",
    "                    vals.append(imp.iloc[j][region])\n",
    "                \n",
    "                iqr_high.append(np.percentile(vals, 75))\n",
    "                iqr_low.append(np.percentile(vals, 25))\n",
    "                imp_max.append(max(vals))\n",
    "                imp_min.append(min(vals))\n",
    "\n",
    "                \n",
    "        \n",
    "            # Don't waste a plot if no imputation happened\n",
    "            if not (o[region].equals(imp_avg[region])):\n",
    "                print(f\"Actually plotting for hours: {start}, {end}\")\n",
    "                comparison_demand_plot(region, o, imp_avg[region], imp_max, iqr_high, iqr_low, imp_min, imp_name, t, s, o_max)\n",
    "        if end == tot_l:\n",
    "            break\n",
    "        k += 1\n",
    "        start += width\n",
    "        end += width\n",
    "        if end >= tot_l:\n",
    "            end = tot_l\n",
    "        \n",
    "        # Speed this up\n",
    "        if region == 'CISO' and k > 105: break\n",
    "        if region == 'LDWP' and k > 7: break\n",
    "\n",
    "\n",
    "\n",
    "\n",
    "\n",
    "\n",
    "\n",
    "\n",
    "def comparison_scatter_plot(v1s, v2s, labels, t1, t2, title, save, float_y_min=False):\n",
    "\n",
    "    plt.close()\n",
    "    fig, ax = plt.subplots(figsize=(5,5))\n",
    "    ax.set_xlabel(t1)\n",
    "    ax.set_ylabel(t2)\n",
    "    max_v1s = np.max( list(map(lambda x: np.max(x), v1s)))\n",
    "    max_v2s = np.max( list(map(lambda x: np.max(x), v2s)))\n",
    "    ax.set_xlim(0, max_v1s*1.1)\n",
    "    min_v2s = 0\n",
    "    if float_y_min:\n",
    "        min_v2s = np.min( list(map(lambda x: np.min(x), v2s)))\n",
    "    ax.set_ylim(min_v2s, max_v2s*1.1)\n",
    "    plt.title(title)\n",
    "    for v1, v2, l in zip(v1s, v2s, labels):\n",
    "        ax.plot(v1, v2, '.', label=l, alpha=0.2)\n",
    "    plt.legend(loc='lower right')\n",
    "    plt.tight_layout()\n",
    "    plt.grid()\n",
    "    plt.savefig(save)\n",
    "\n",
    "\n",
    "def simple_resolution(df_true, df_imp, title, save, n_bins=20):\n",
    "\n",
    "    plt.close()\n",
    "    #if df_true.index.all() != df_imp.index.all():\n",
    "    #    print(\"Indices do not align, exiting simple_resolution\")\n",
    "    #    return 0\n",
    "\n",
    "    #res_grid = []\n",
    "    #for index, value in df_true.items():\n",
    "    #    if value > 0:\n",
    "    #        res_grid.append( (df_imp.at[index]-value) / value)\n",
    "    #    else:\n",
    "    #        print(\"Value == 0 for simple_resolution {} {}\".format(title, save))\n",
    "    res_grid = []\n",
    "    for obs, val in zip(df_true, df_imp):\n",
    "        if obs != 0:\n",
    "            res_grid.append((val-obs)/obs)\n",
    "        else:\n",
    "            print(\"Value == 0 for simple_resolution {} {}\".format(title, save))\n",
    "    \n",
    "    fig, ax = plt.subplots(figsize=(5,5))\n",
    "    n, bins, patches = ax.hist(res_grid, n_bins, \n",
    "            facecolor='b', alpha=0.5, density=False)\n",
    "    print(\"Length simp_res {}\".format(np.sum(n)))\n",
    "    fig.set_figheight(10)\n",
    "    fig.set_figwidth(10)\n",
    "    plt.title(title)\n",
    "    plt.xlabel('(Imp. - Obs.)/Obs.')\n",
    "    plt.ylabel('Counts')\n",
    "    plt.tight_layout()\n",
    "    plt.grid()\n",
    "    plt.savefig(save)\n",
    "\n",
    "\n",
    "def bplot_ylim(ax):\n",
    "    current_ylim = ax.get_ylim()\n",
    "    if current_ylim[0] > -0.1 and current_ylim[1] < 0.1:\n",
    "        ax.set_ylim(-0.1, 0.1)\n",
    "    elif current_ylim[0] > -0.15 and current_ylim[1] < 0.15:\n",
    "        ax.set_ylim(-0.15, 0.15)\n",
    "\n",
    "        \n",
    "        \n",
    "        \n",
    "def get_mape_list(df_master, df_true, df_imp):\n",
    "    mape_list = []\n",
    "    mean_list = []\n",
    "    \n",
    "    for obs, val in zip(df_true, df_imp):\n",
    "        res = (val-obs)/obs\n",
    "        mape_list.append( abs(res) )\n",
    "        mean_list.append( res )\n",
    "    \n",
    "    return mape_list, mean_list\n",
    "\n",
    "        \n",
    "# df_master is used to get the correct UCT time\n",
    "def resolution_by_time(df_master, idx_vals, df_true, df_imp, title, save):\n",
    "    \n",
    "    plt.close()\n",
    "    matplotlib.rcParams.update({'font.size': 18})\n",
    "    \n",
    "    #if df_true.index.all() != df_imp.index.all():\n",
    "    #    print(\"Indices do not align, exiting resolution_by_time\")\n",
    "    #    return 0\n",
    "    \n",
    "    # Get UCT time by index\n",
    "    zero_index_hour = df_master.at[0, 'date_time'].hour\n",
    "    \n",
    "    res_grid = []\n",
    "    for i in range(24):\n",
    "        res_grid.append([])\n",
    "    month_grid = []\n",
    "    for i in range(12):\n",
    "        month_grid.append([])\n",
    "    week_grid = []\n",
    "    for i in range(7):\n",
    "        week_grid.append([])\n",
    "    year_grid = []\n",
    "    for i in range(6):\n",
    "        year_grid.append([])\n",
    "    \n",
    "    #print(idx_vals, df_true, df_imp)\n",
    "    for idx, obs, val in zip(idx_vals, df_true, df_imp):\n",
    "        #print(idx, obs, val)\n",
    "        mod = (idx + zero_index_hour)%24 # Do UTC (Nov 5, 2019) - 8)%24 # -8 for PST vs. UCT\n",
    "        res = (val-obs)/obs\n",
    "        #print(res)\n",
    "        #print(res_grid, mod, res)\n",
    "        res_grid[mod].append(res)\n",
    "        # Get month\n",
    "        month = df_master.at[idx, 'date_time'].month\n",
    "        month_grid[month-1].append(res)\n",
    "        # Get week\n",
    "        day = df_master.at[idx, 'date_time'].weekday()\n",
    "        week_grid[day].append(res)\n",
    "        year = df_master.at[idx, 'date_time'].year\n",
    "        year_grid[year - 2015].append(res) # minus 2015 to zero index\n",
    "\n",
    "    medianprops = dict(linestyle='-', linewidth=2.5)\n",
    "    matplotlib.rcParams.update({'font.size': 22})\n",
    "    rot = 90\n",
    "    y_lab = '(imputed - actual)/actual'\n",
    "    multiple = 0.05\n",
    "    # Plot hourly\n",
    "    plt.close()\n",
    "    fig, ax = plt.subplots(figsize=(10,7))\n",
    "    plt.subplots_adjust(left=.15, bottom=0.2, top=0.97, right=0.95)\n",
    "    ax.yaxis.grid(True)\n",
    "    #ax.set_title(title+': whiskers at 5%/95%')\n",
    "    bplot = ax.boxplot(res_grid, whis=[5, 95], showfliers=False, patch_artist=True, medianprops=medianprops)\n",
    "    hour_labels = []\n",
    "    for i in range(24):\n",
    "        if i%2==0:\n",
    "            hour_labels.append('{0:02d}:00'.format(i))\n",
    "        else:\n",
    "            hour_labels.append('')\n",
    "    plt.xticks([i for i in range(1, 25)], hour_labels, rotation=rot)\n",
    "    ax.set_xlabel('Hour (UTC)')\n",
    "    ax.set_ylabel(y_lab)\n",
    "    ax.yaxis.set_major_locator(MultipleLocator(multiple))\n",
    "    #plt.tight_layout()\n",
    "    for patch in bplot['boxes']:\n",
    "        patch.set_facecolor('lightblue')\n",
    "    bplot_ylim(ax)\n",
    "    plt.savefig(save)\n",
    "    \n",
    "    # Plot monthly\n",
    "    plt.close()\n",
    "    fig, ax = plt.subplots(figsize=(10,7))\n",
    "    plt.subplots_adjust(left=.15, bottom=0.2, top=0.97, right=0.95)\n",
    "    ax.yaxis.grid(True)\n",
    "    #ax.set_title(title.replace('hour', 'month')+': whiskers at 5%/95%')\n",
    "    bplot = ax.boxplot(month_grid, whis=[5, 95], showfliers=False, patch_artist=True, medianprops=medianprops)\n",
    "    plt.xticks([i for i in range(1, 13)], ('Jan','Feb','Mar','Apr','May','Jun',\n",
    "                                          'Jul','Aug','Sep','Oct','Nov','Dec'), rotation=rot)\n",
    "    ax.set_ylabel(y_lab)\n",
    "    ax.yaxis.set_major_locator(MultipleLocator(multiple))\n",
    "    #plt.tight_layout()\n",
    "    for patch in bplot['boxes']:\n",
    "        patch.set_facecolor('lightblue')\n",
    "    bplot_ylim(ax)\n",
    "    plt.savefig(save.replace('hour', 'month'))\n",
    "    \n",
    "    # Plot weekly\n",
    "    plt.close()\n",
    "    fig, ax = plt.subplots(figsize=(10,7))\n",
    "    plt.subplots_adjust(left=.15, bottom=0.2, top=0.97, right=0.95)\n",
    "    ax.yaxis.grid(True)\n",
    "    #ax.set_title(title.replace('hour', 'week')+': whiskers at 5%/95%')\n",
    "    bplot = ax.boxplot(week_grid, whis=[5, 95], showfliers=False, patch_artist=True, medianprops=medianprops)\n",
    "    plt.xticks([i for i in range(1, 8)], ('Mon','Tue','Wed','Thu','Fri','Sat','Sun'), rotation=rot)\n",
    "    ax.set_ylabel(y_lab)\n",
    "    ax.yaxis.set_major_locator(MultipleLocator(multiple))\n",
    "    #plt.tight_layout()\n",
    "    for patch in bplot['boxes']:\n",
    "        patch.set_facecolor('lightblue')\n",
    "    bplot_ylim(ax)\n",
    "    plt.savefig(save.replace('hour', 'week'))\n",
    "    \n",
    "    # Plot yearly\n",
    "    plt.close()\n",
    "    fig, ax = plt.subplots(figsize=(10,7))\n",
    "    plt.subplots_adjust(left=.15, bottom=0.2, top=0.97, right=0.95)\n",
    "    ax.yaxis.grid(True)\n",
    "    #ax.set_title(title.replace('hour', 'week')+': whiskers at 5%/95%')\n",
    "    bplot = ax.boxplot(year_grid, whis=[5, 95], showfliers=False, patch_artist=True, medianprops=medianprops)\n",
    "    plt.xticks([i for i in range(1, 7)], range(2015, 2021), rotation=rot)\n",
    "    ax.set_ylabel(y_lab)\n",
    "    ax.yaxis.set_major_locator(MultipleLocator(multiple))\n",
    "    #plt.tight_layout()\n",
    "    for patch in bplot['boxes']:\n",
    "        patch.set_facecolor('lightblue')\n",
    "    bplot_ylim(ax)\n",
    "    plt.savefig(save.replace('hour', 'year'))\n",
    "\n",
    "    \n",
    "    \n",
    "def return_all_regions():\n",
    "    return ['AEC', 'AECI', 'CPLE', 'CPLW',\n",
    "    'DUK', 'FMPP', 'FPC',\n",
    "    'FPL', 'GVL', 'HST', 'ISNE',\n",
    "    'JEA', 'LGEE', 'MISO', 'NSB',\n",
    "    'NYIS', 'OVEC', 'PJM', 'SC',\n",
    "    'SCEG', 'SEC', 'SOCO',\n",
    "    'SPA', 'SWPP', 'TAL', 'TEC',\n",
    "    'TVA', 'ERCO',\n",
    "    'AVA', 'AZPS', 'BANC', 'BPAT',\n",
    "    'CHPD', 'CISO', 'DOPD',\n",
    "    'EPE', 'GCPD', 'IID',\n",
    "    'IPCO', 'LDWP', 'NEVP', 'NWMT',\n",
    "    'PACE', 'PACW', 'PGE', 'PNM',\n",
    "    'PSCO', 'PSEI', 'SCL', 'SRP',\n",
    "    'TEPC', 'TIDC', 'TPWR', 'WACM',\n",
    "    'WALC', 'WAUW']\n",
    "    \n",
    "    \n",
    "def return_good_regions():\n",
    "    regions = return_all_regions()\n",
    "    regions.remove('SEC')\n",
    "    regions.remove('OVEC')\n",
    "    return regions\n"
   ]
  },
  {
   "cell_type": "code",
   "execution_count": 23,
   "metadata": {},
   "outputs": [
    {
     "name": "stdout",
     "output_type": "stream",
     "text": [
      "Length of regions: 51\n",
      "['ISNE', 'AEC', 'AECI', 'AVA', 'AZPS', 'BANC', 'BPAT', 'CHPD', 'CISO', 'CPLE', 'CPLW', 'DOPD', 'DUK', 'EPE', 'ERCO', 'FMPP', 'FPC', 'FPL', 'GCPD', 'GVL', 'HST', 'IID', 'IPCO', 'JEA', 'LDWP', 'LGEE', 'MISO', 'NEVP', 'NSB', 'NWMT', 'PACE', 'PACW', 'PGE', 'PJM', 'PNM', 'PSCO', 'PSEI', 'SC', 'SCL', 'SOCO', 'SPA', 'SRP', 'SWPP', 'TAL', 'TEPC', 'TIDC', 'TPWR', 'TVA', 'WACM', 'WALC', 'WAUW']\n",
      "ISNE\n"
     ]
    },
    {
     "name": "stderr",
     "output_type": "stream",
     "text": [
      "/anaconda3/lib/python3.7/site-packages/ipykernel_launcher.py:42: FutureWarning: Series.nonzero() is deprecated and will be removed in a future version.Use Series.to_numpy().nonzero() instead\n"
     ]
    },
    {
     "name": "stdout",
     "output_type": "stream",
     "text": [
      "AEC\n"
     ]
    },
    {
     "name": "stderr",
     "output_type": "stream",
     "text": [
      "/anaconda3/lib/python3.7/site-packages/ipykernel_launcher.py:42: FutureWarning: Series.nonzero() is deprecated and will be removed in a future version.Use Series.to_numpy().nonzero() instead\n"
     ]
    },
    {
     "name": "stdout",
     "output_type": "stream",
     "text": [
      "AECI\n"
     ]
    },
    {
     "name": "stderr",
     "output_type": "stream",
     "text": [
      "/anaconda3/lib/python3.7/site-packages/ipykernel_launcher.py:42: FutureWarning: Series.nonzero() is deprecated and will be removed in a future version.Use Series.to_numpy().nonzero() instead\n"
     ]
    },
    {
     "name": "stdout",
     "output_type": "stream",
     "text": [
      "AVA\n"
     ]
    },
    {
     "name": "stderr",
     "output_type": "stream",
     "text": [
      "/anaconda3/lib/python3.7/site-packages/ipykernel_launcher.py:42: FutureWarning: Series.nonzero() is deprecated and will be removed in a future version.Use Series.to_numpy().nonzero() instead\n"
     ]
    },
    {
     "name": "stdout",
     "output_type": "stream",
     "text": [
      "AZPS\n"
     ]
    },
    {
     "name": "stderr",
     "output_type": "stream",
     "text": [
      "/anaconda3/lib/python3.7/site-packages/ipykernel_launcher.py:42: FutureWarning: Series.nonzero() is deprecated and will be removed in a future version.Use Series.to_numpy().nonzero() instead\n"
     ]
    },
    {
     "name": "stdout",
     "output_type": "stream",
     "text": [
      "BANC\n"
     ]
    },
    {
     "name": "stderr",
     "output_type": "stream",
     "text": [
      "/anaconda3/lib/python3.7/site-packages/ipykernel_launcher.py:42: FutureWarning: Series.nonzero() is deprecated and will be removed in a future version.Use Series.to_numpy().nonzero() instead\n"
     ]
    },
    {
     "name": "stdout",
     "output_type": "stream",
     "text": [
      "BPAT\n"
     ]
    },
    {
     "name": "stderr",
     "output_type": "stream",
     "text": [
      "/anaconda3/lib/python3.7/site-packages/ipykernel_launcher.py:42: FutureWarning: Series.nonzero() is deprecated and will be removed in a future version.Use Series.to_numpy().nonzero() instead\n"
     ]
    },
    {
     "name": "stdout",
     "output_type": "stream",
     "text": [
      "CHPD\n"
     ]
    },
    {
     "name": "stderr",
     "output_type": "stream",
     "text": [
      "/anaconda3/lib/python3.7/site-packages/ipykernel_launcher.py:42: FutureWarning: Series.nonzero() is deprecated and will be removed in a future version.Use Series.to_numpy().nonzero() instead\n"
     ]
    },
    {
     "name": "stdout",
     "output_type": "stream",
     "text": [
      "CISO\n"
     ]
    },
    {
     "name": "stderr",
     "output_type": "stream",
     "text": [
      "/anaconda3/lib/python3.7/site-packages/ipykernel_launcher.py:42: FutureWarning: Series.nonzero() is deprecated and will be removed in a future version.Use Series.to_numpy().nonzero() instead\n"
     ]
    },
    {
     "name": "stdout",
     "output_type": "stream",
     "text": [
      "CPLE\n"
     ]
    },
    {
     "name": "stderr",
     "output_type": "stream",
     "text": [
      "/anaconda3/lib/python3.7/site-packages/ipykernel_launcher.py:42: FutureWarning: Series.nonzero() is deprecated and will be removed in a future version.Use Series.to_numpy().nonzero() instead\n"
     ]
    },
    {
     "name": "stdout",
     "output_type": "stream",
     "text": [
      "CPLW\n"
     ]
    },
    {
     "name": "stderr",
     "output_type": "stream",
     "text": [
      "/anaconda3/lib/python3.7/site-packages/ipykernel_launcher.py:42: FutureWarning: Series.nonzero() is deprecated and will be removed in a future version.Use Series.to_numpy().nonzero() instead\n"
     ]
    },
    {
     "name": "stdout",
     "output_type": "stream",
     "text": [
      "DOPD\n"
     ]
    },
    {
     "name": "stderr",
     "output_type": "stream",
     "text": [
      "/anaconda3/lib/python3.7/site-packages/ipykernel_launcher.py:42: FutureWarning: Series.nonzero() is deprecated and will be removed in a future version.Use Series.to_numpy().nonzero() instead\n"
     ]
    },
    {
     "name": "stdout",
     "output_type": "stream",
     "text": [
      "DUK\n"
     ]
    },
    {
     "name": "stderr",
     "output_type": "stream",
     "text": [
      "/anaconda3/lib/python3.7/site-packages/ipykernel_launcher.py:42: FutureWarning: Series.nonzero() is deprecated and will be removed in a future version.Use Series.to_numpy().nonzero() instead\n"
     ]
    },
    {
     "name": "stdout",
     "output_type": "stream",
     "text": [
      "EPE\n"
     ]
    },
    {
     "name": "stderr",
     "output_type": "stream",
     "text": [
      "/anaconda3/lib/python3.7/site-packages/ipykernel_launcher.py:42: FutureWarning: Series.nonzero() is deprecated and will be removed in a future version.Use Series.to_numpy().nonzero() instead\n"
     ]
    },
    {
     "name": "stdout",
     "output_type": "stream",
     "text": [
      "ERCO\n"
     ]
    },
    {
     "name": "stderr",
     "output_type": "stream",
     "text": [
      "/anaconda3/lib/python3.7/site-packages/ipykernel_launcher.py:42: FutureWarning: Series.nonzero() is deprecated and will be removed in a future version.Use Series.to_numpy().nonzero() instead\n"
     ]
    },
    {
     "name": "stdout",
     "output_type": "stream",
     "text": [
      "FMPP\n"
     ]
    },
    {
     "name": "stderr",
     "output_type": "stream",
     "text": [
      "/anaconda3/lib/python3.7/site-packages/ipykernel_launcher.py:42: FutureWarning: Series.nonzero() is deprecated and will be removed in a future version.Use Series.to_numpy().nonzero() instead\n"
     ]
    },
    {
     "name": "stdout",
     "output_type": "stream",
     "text": [
      "FPC\n"
     ]
    },
    {
     "name": "stderr",
     "output_type": "stream",
     "text": [
      "/anaconda3/lib/python3.7/site-packages/ipykernel_launcher.py:42: FutureWarning: Series.nonzero() is deprecated and will be removed in a future version.Use Series.to_numpy().nonzero() instead\n"
     ]
    },
    {
     "name": "stdout",
     "output_type": "stream",
     "text": [
      "FPL\n"
     ]
    },
    {
     "name": "stderr",
     "output_type": "stream",
     "text": [
      "/anaconda3/lib/python3.7/site-packages/ipykernel_launcher.py:42: FutureWarning: Series.nonzero() is deprecated and will be removed in a future version.Use Series.to_numpy().nonzero() instead\n"
     ]
    },
    {
     "name": "stdout",
     "output_type": "stream",
     "text": [
      "GCPD\n"
     ]
    },
    {
     "name": "stderr",
     "output_type": "stream",
     "text": [
      "/anaconda3/lib/python3.7/site-packages/ipykernel_launcher.py:42: FutureWarning: Series.nonzero() is deprecated and will be removed in a future version.Use Series.to_numpy().nonzero() instead\n"
     ]
    },
    {
     "name": "stdout",
     "output_type": "stream",
     "text": [
      "GVL\n"
     ]
    },
    {
     "name": "stderr",
     "output_type": "stream",
     "text": [
      "/anaconda3/lib/python3.7/site-packages/ipykernel_launcher.py:42: FutureWarning: Series.nonzero() is deprecated and will be removed in a future version.Use Series.to_numpy().nonzero() instead\n"
     ]
    },
    {
     "name": "stdout",
     "output_type": "stream",
     "text": [
      "HST\n"
     ]
    },
    {
     "name": "stderr",
     "output_type": "stream",
     "text": [
      "/anaconda3/lib/python3.7/site-packages/ipykernel_launcher.py:42: FutureWarning: Series.nonzero() is deprecated and will be removed in a future version.Use Series.to_numpy().nonzero() instead\n"
     ]
    },
    {
     "name": "stdout",
     "output_type": "stream",
     "text": [
      "IID\n"
     ]
    },
    {
     "name": "stderr",
     "output_type": "stream",
     "text": [
      "/anaconda3/lib/python3.7/site-packages/ipykernel_launcher.py:42: FutureWarning: Series.nonzero() is deprecated and will be removed in a future version.Use Series.to_numpy().nonzero() instead\n"
     ]
    },
    {
     "name": "stdout",
     "output_type": "stream",
     "text": [
      "IPCO\n"
     ]
    },
    {
     "name": "stderr",
     "output_type": "stream",
     "text": [
      "/anaconda3/lib/python3.7/site-packages/ipykernel_launcher.py:42: FutureWarning: Series.nonzero() is deprecated and will be removed in a future version.Use Series.to_numpy().nonzero() instead\n"
     ]
    },
    {
     "name": "stdout",
     "output_type": "stream",
     "text": [
      "JEA\n"
     ]
    },
    {
     "name": "stderr",
     "output_type": "stream",
     "text": [
      "/anaconda3/lib/python3.7/site-packages/ipykernel_launcher.py:42: FutureWarning: Series.nonzero() is deprecated and will be removed in a future version.Use Series.to_numpy().nonzero() instead\n"
     ]
    },
    {
     "name": "stdout",
     "output_type": "stream",
     "text": [
      "LDWP\n"
     ]
    },
    {
     "name": "stderr",
     "output_type": "stream",
     "text": [
      "/anaconda3/lib/python3.7/site-packages/ipykernel_launcher.py:42: FutureWarning: Series.nonzero() is deprecated and will be removed in a future version.Use Series.to_numpy().nonzero() instead\n"
     ]
    },
    {
     "name": "stdout",
     "output_type": "stream",
     "text": [
      "LGEE\n"
     ]
    },
    {
     "name": "stderr",
     "output_type": "stream",
     "text": [
      "/anaconda3/lib/python3.7/site-packages/ipykernel_launcher.py:42: FutureWarning: Series.nonzero() is deprecated and will be removed in a future version.Use Series.to_numpy().nonzero() instead\n"
     ]
    },
    {
     "name": "stdout",
     "output_type": "stream",
     "text": [
      "MISO\n"
     ]
    },
    {
     "name": "stderr",
     "output_type": "stream",
     "text": [
      "/anaconda3/lib/python3.7/site-packages/ipykernel_launcher.py:42: FutureWarning: Series.nonzero() is deprecated and will be removed in a future version.Use Series.to_numpy().nonzero() instead\n"
     ]
    },
    {
     "name": "stdout",
     "output_type": "stream",
     "text": [
      "NEVP\n"
     ]
    },
    {
     "name": "stderr",
     "output_type": "stream",
     "text": [
      "/anaconda3/lib/python3.7/site-packages/ipykernel_launcher.py:42: FutureWarning: Series.nonzero() is deprecated and will be removed in a future version.Use Series.to_numpy().nonzero() instead\n"
     ]
    },
    {
     "name": "stdout",
     "output_type": "stream",
     "text": [
      "NSB\n"
     ]
    },
    {
     "name": "stderr",
     "output_type": "stream",
     "text": [
      "/anaconda3/lib/python3.7/site-packages/ipykernel_launcher.py:42: FutureWarning: Series.nonzero() is deprecated and will be removed in a future version.Use Series.to_numpy().nonzero() instead\n"
     ]
    },
    {
     "name": "stdout",
     "output_type": "stream",
     "text": [
      "NWMT\n"
     ]
    },
    {
     "name": "stderr",
     "output_type": "stream",
     "text": [
      "/anaconda3/lib/python3.7/site-packages/ipykernel_launcher.py:42: FutureWarning: Series.nonzero() is deprecated and will be removed in a future version.Use Series.to_numpy().nonzero() instead\n"
     ]
    },
    {
     "name": "stdout",
     "output_type": "stream",
     "text": [
      "PACE\n"
     ]
    },
    {
     "name": "stderr",
     "output_type": "stream",
     "text": [
      "/anaconda3/lib/python3.7/site-packages/ipykernel_launcher.py:42: FutureWarning: Series.nonzero() is deprecated and will be removed in a future version.Use Series.to_numpy().nonzero() instead\n"
     ]
    },
    {
     "name": "stdout",
     "output_type": "stream",
     "text": [
      "PACW\n"
     ]
    },
    {
     "name": "stderr",
     "output_type": "stream",
     "text": [
      "/anaconda3/lib/python3.7/site-packages/ipykernel_launcher.py:42: FutureWarning: Series.nonzero() is deprecated and will be removed in a future version.Use Series.to_numpy().nonzero() instead\n"
     ]
    },
    {
     "name": "stdout",
     "output_type": "stream",
     "text": [
      "PGE\n"
     ]
    },
    {
     "name": "stderr",
     "output_type": "stream",
     "text": [
      "/anaconda3/lib/python3.7/site-packages/ipykernel_launcher.py:42: FutureWarning: Series.nonzero() is deprecated and will be removed in a future version.Use Series.to_numpy().nonzero() instead\n"
     ]
    },
    {
     "name": "stdout",
     "output_type": "stream",
     "text": [
      "PJM\n"
     ]
    },
    {
     "name": "stderr",
     "output_type": "stream",
     "text": [
      "/anaconda3/lib/python3.7/site-packages/ipykernel_launcher.py:42: FutureWarning: Series.nonzero() is deprecated and will be removed in a future version.Use Series.to_numpy().nonzero() instead\n"
     ]
    },
    {
     "name": "stdout",
     "output_type": "stream",
     "text": [
      "PNM\n"
     ]
    },
    {
     "name": "stderr",
     "output_type": "stream",
     "text": [
      "/anaconda3/lib/python3.7/site-packages/ipykernel_launcher.py:42: FutureWarning: Series.nonzero() is deprecated and will be removed in a future version.Use Series.to_numpy().nonzero() instead\n"
     ]
    },
    {
     "name": "stdout",
     "output_type": "stream",
     "text": [
      "PSCO\n"
     ]
    },
    {
     "name": "stderr",
     "output_type": "stream",
     "text": [
      "/anaconda3/lib/python3.7/site-packages/ipykernel_launcher.py:42: FutureWarning: Series.nonzero() is deprecated and will be removed in a future version.Use Series.to_numpy().nonzero() instead\n"
     ]
    },
    {
     "name": "stdout",
     "output_type": "stream",
     "text": [
      "PSEI\n"
     ]
    },
    {
     "name": "stderr",
     "output_type": "stream",
     "text": [
      "/anaconda3/lib/python3.7/site-packages/ipykernel_launcher.py:42: FutureWarning: Series.nonzero() is deprecated and will be removed in a future version.Use Series.to_numpy().nonzero() instead\n"
     ]
    },
    {
     "name": "stdout",
     "output_type": "stream",
     "text": [
      "SC\n"
     ]
    },
    {
     "name": "stderr",
     "output_type": "stream",
     "text": [
      "/anaconda3/lib/python3.7/site-packages/ipykernel_launcher.py:42: FutureWarning: Series.nonzero() is deprecated and will be removed in a future version.Use Series.to_numpy().nonzero() instead\n"
     ]
    },
    {
     "name": "stdout",
     "output_type": "stream",
     "text": [
      "SCL\n"
     ]
    },
    {
     "name": "stderr",
     "output_type": "stream",
     "text": [
      "/anaconda3/lib/python3.7/site-packages/ipykernel_launcher.py:42: FutureWarning: Series.nonzero() is deprecated and will be removed in a future version.Use Series.to_numpy().nonzero() instead\n"
     ]
    },
    {
     "name": "stdout",
     "output_type": "stream",
     "text": [
      "SOCO\n"
     ]
    },
    {
     "name": "stderr",
     "output_type": "stream",
     "text": [
      "/anaconda3/lib/python3.7/site-packages/ipykernel_launcher.py:42: FutureWarning: Series.nonzero() is deprecated and will be removed in a future version.Use Series.to_numpy().nonzero() instead\n"
     ]
    },
    {
     "name": "stdout",
     "output_type": "stream",
     "text": [
      "SPA\n"
     ]
    },
    {
     "name": "stderr",
     "output_type": "stream",
     "text": [
      "/anaconda3/lib/python3.7/site-packages/ipykernel_launcher.py:42: FutureWarning: Series.nonzero() is deprecated and will be removed in a future version.Use Series.to_numpy().nonzero() instead\n"
     ]
    },
    {
     "name": "stdout",
     "output_type": "stream",
     "text": [
      "SRP\n"
     ]
    },
    {
     "name": "stderr",
     "output_type": "stream",
     "text": [
      "/anaconda3/lib/python3.7/site-packages/ipykernel_launcher.py:42: FutureWarning: Series.nonzero() is deprecated and will be removed in a future version.Use Series.to_numpy().nonzero() instead\n"
     ]
    },
    {
     "name": "stdout",
     "output_type": "stream",
     "text": [
      "SWPP\n"
     ]
    },
    {
     "name": "stderr",
     "output_type": "stream",
     "text": [
      "/anaconda3/lib/python3.7/site-packages/ipykernel_launcher.py:42: FutureWarning: Series.nonzero() is deprecated and will be removed in a future version.Use Series.to_numpy().nonzero() instead\n"
     ]
    },
    {
     "name": "stdout",
     "output_type": "stream",
     "text": [
      "TAL\n"
     ]
    },
    {
     "name": "stderr",
     "output_type": "stream",
     "text": [
      "/anaconda3/lib/python3.7/site-packages/ipykernel_launcher.py:42: FutureWarning: Series.nonzero() is deprecated and will be removed in a future version.Use Series.to_numpy().nonzero() instead\n"
     ]
    },
    {
     "name": "stdout",
     "output_type": "stream",
     "text": [
      "TEPC\n"
     ]
    },
    {
     "name": "stderr",
     "output_type": "stream",
     "text": [
      "/anaconda3/lib/python3.7/site-packages/ipykernel_launcher.py:42: FutureWarning: Series.nonzero() is deprecated and will be removed in a future version.Use Series.to_numpy().nonzero() instead\n"
     ]
    },
    {
     "name": "stdout",
     "output_type": "stream",
     "text": [
      "TIDC\n"
     ]
    },
    {
     "name": "stderr",
     "output_type": "stream",
     "text": [
      "/anaconda3/lib/python3.7/site-packages/ipykernel_launcher.py:42: FutureWarning: Series.nonzero() is deprecated and will be removed in a future version.Use Series.to_numpy().nonzero() instead\n"
     ]
    },
    {
     "name": "stdout",
     "output_type": "stream",
     "text": [
      "TPWR\n"
     ]
    },
    {
     "name": "stderr",
     "output_type": "stream",
     "text": [
      "/anaconda3/lib/python3.7/site-packages/ipykernel_launcher.py:42: FutureWarning: Series.nonzero() is deprecated and will be removed in a future version.Use Series.to_numpy().nonzero() instead\n"
     ]
    },
    {
     "name": "stdout",
     "output_type": "stream",
     "text": [
      "TVA\n"
     ]
    },
    {
     "name": "stderr",
     "output_type": "stream",
     "text": [
      "/anaconda3/lib/python3.7/site-packages/ipykernel_launcher.py:42: FutureWarning: Series.nonzero() is deprecated and will be removed in a future version.Use Series.to_numpy().nonzero() instead\n"
     ]
    },
    {
     "name": "stdout",
     "output_type": "stream",
     "text": [
      "WACM\n"
     ]
    },
    {
     "name": "stderr",
     "output_type": "stream",
     "text": [
      "/anaconda3/lib/python3.7/site-packages/ipykernel_launcher.py:42: FutureWarning: Series.nonzero() is deprecated and will be removed in a future version.Use Series.to_numpy().nonzero() instead\n"
     ]
    },
    {
     "name": "stdout",
     "output_type": "stream",
     "text": [
      "WALC\n"
     ]
    },
    {
     "name": "stderr",
     "output_type": "stream",
     "text": [
      "/anaconda3/lib/python3.7/site-packages/ipykernel_launcher.py:42: FutureWarning: Series.nonzero() is deprecated and will be removed in a future version.Use Series.to_numpy().nonzero() instead\n"
     ]
    },
    {
     "name": "stdout",
     "output_type": "stream",
     "text": [
      "WAUW\n"
     ]
    },
    {
     "name": "stderr",
     "output_type": "stream",
     "text": [
      "/anaconda3/lib/python3.7/site-packages/ipykernel_launcher.py:42: FutureWarning: Series.nonzero() is deprecated and will be removed in a future version.Use Series.to_numpy().nonzero() instead\n"
     ]
    },
    {
     "name": "stdout",
     "output_type": "stream",
     "text": [
      "BA Median_Demand Num_for_Imp Mean_Diff Short Long All Forecast\n",
      "ISNE 13588 5 -0.35100000000000003 1.44 2.16 1.73\n",
      "AEC 481 331 -0.394 2.72 4.64 4.38\n",
      "AECI 2308 14 0.40499999999999997 2.62 4.95 2.86\n",
      "AVA 1369 457 0.35400000000000004 2.92 4.05 3.82\n",
      "AZPS 3156 59 0.159 1.73 3.07 2.58\n",
      "BANC 1873 1634 0.42900000000000005 1.67 4.06 3.92\n",
      "BPAT 6212 54 0.211 1.03 1.89 1.38\n",
      "CHPD 196 276 1.0330000000000001 2.94 10.84 6.4\n",
      "CISO 24877 346 0.586 1.64 3.35 2.96\n",
      "CPLE 6551 230 0.272 2.16 3.65 3.43\n",
      "CPLW 556 246 -0.398 1.92 4.36 3.48\n",
      "DOPD 177 2071 0.331 1.94 5.29 3.92\n",
      "DUK 11340 48 -0.008 1.45 2.75 2.63\n",
      "EPE 887 83 0.06999999999999999 1.44 4.11 1.8\n",
      "ERCO 39433 240 0.559 3.51 5.63 5.51\n",
      "FMPP 1956 805 -0.023 1.36 1.81 1.72\n",
      "FPC 5725 108 0.029 0.95 1.67 1.37\n",
      "FPL 13900 187 -0.293 1.38 2.66 2.14\n",
      "GCPD 575 210 -0.107 0.76 2.58 0.83\n",
      "GVL 217 3332 0.06 2.41 3.56 3.5\n",
      "HST 63 1813 0.172 2.36 5.01 4.0\n",
      "IID 349 876 0.34199999999999997 5.88 7.88 7.63\n",
      "IPCO 1902 332 -0.905 2.85 6.6 5.26\n",
      "JEA 1417 581 0.42900000000000005 2.2 3.78 3.63\n",
      "LDWP 3078 633 0.9039999999999999 2.31 4.24 4.11\n",
      "LGEE 3881 177 -0.271 2.11 3.08 2.96\n",
      "MISO 72508 30 -0.056999999999999995 0.9 1.16 0.99\n",
      "NEVP 3842 321 0.181 2.37 3.07 2.88\n",
      "NSB 46 8283 0.032 3.49 5.38 4.94\n",
      "NWMT 1322 197 -0.05 1.37 3.24 2.72\n",
      "PACE 5384 3657 -0.018000000000000002 2.32 3.72 3.51\n",
      "PACW 2296 4082 0.398 2.87 4.05 3.96\n",
      "PGE 2344 866 0.055999999999999994 1.81 3.19 3.14\n",
      "PJM 88197 81 0.005 1.05 2.44 2.17\n",
      "PNM 1545 200 0.13699999999999998 1.4 2.79 2.5\n",
      "PSCO 5003 48 -0.616 1.28 3.85 2.53\n",
      "PSEI 3350 98 -0.751 2.53 3.66 3.56\n",
      "SC 2658 3204 1.505 3.33 5.89 5.86\n",
      "SCL 1092 238 0.257 1.63 2.95 2.54\n",
      "SOCO 25388 1593 -0.038 1.82 2.44 2.42\n",
      "SPA 71 319 1.2919999999999998 8.2 9.61 8.46\n",
      "SRP 3015 1232 0.116 2.11 2.92 2.84\n",
      "SWPP 28470 3530 0.027 2.25 2.54 2.53\n",
      "TAL 301 53 0.22100000000000003 1.62 2.54 1.64\n",
      "TEPC 1493 912 0.762 5.98 11.94 11.6\n",
      "TIDC 284 529 -0.272 1.52 3.79 3.16\n",
      "TPWR 540 436 0.064 1.47 2.49 2.26\n",
      "TVA 17106 826 0.28400000000000003 1.66 2.52 2.48\n",
      "WACM 2799 942 -0.505 1.85 5.48 4.66\n",
      "WALC 1021 506 -0.117 4.42 7.39 6.17\n",
      "WAUW 90 4847 -0.11199999999999999 4.33 7.64 7.21\n",
      "CONUS 416233 52178 0.213 2.79 4.63 4.35\n"
     ]
    },
    {
     "data": {
      "image/png": "[encoded data removed]",
      "text/plain": [
       "<Figure size 720x504 with 1 Axes>"
      ]
     },
     "metadata": {
      "needs_background": "light"
     },
     "output_type": "display_data"
    }
   ],
   "source": [
    "width = 240\n",
    "\n",
    "n1 = 'MICE'\n",
    "## Open a saved csv and check contents\n",
    "base = '/Users/truggles/Downloads/Oct5_Imputations/'\n",
    "png_out = '/Users/truggles/tmp_plots_imp_20201005/'\n",
    "\n",
    "### NOTE, if you want ALL regions use regions = return_all_regions()\n",
    "regions = ['BANC', 'CISO', 'LDWP', 'TIDC']\n",
    "regions = ['CISO',]\n",
    "\n",
    "do_box_plots = True\n",
    "if not do_box_plots:\n",
    "    print(\"\\nOnly producing the scrolling demand plots\\n\")\n",
    "\n",
    "    \n",
    "app = '_28Sept2020_rm1July2015'\n",
    "    \n",
    "if do_box_plots:\n",
    "    regions = ['BANC', 'CISO', 'LDWP', 'TIDC']\n",
    "    regions = ['CISO',]\n",
    "    df = load_csv(base+'csv_MASTER'+app+'.csv', regions, ['NA',], True, 0)\n",
    "    #df = df.drop([i for i in range(19)])\n",
    "    #df = df.drop([i for i in range(35064+19,36547)])\n",
    "    df = df.reset_index()\n",
    "\n",
    "    \n",
    "    df['date_time'] = pd.to_datetime(df['date_time'])\n",
    "\n",
    "    \n",
    "\n",
    "\n",
    "\n",
    "    \n",
    "regs = ['TAL','SCEG']#'NYIS','ERCO','PJM']\n",
    "#regs = ['SCEG',]\n",
    "regs = return_good_regions()\n",
    "#regs = ['CISO',]\n",
    "regs = [\n",
    "     'ISNE',\n",
    "     'AEC', 'AECI', 'AVA', 'AZPS', 'BANC', 'BPAT', 'CHPD', 'CISO', 'CPLE', 'CPLW', 'DOPD', \n",
    "     'DUK', 'EPE', 'ERCO', 'FMPP', 'FPC', 'FPL', 'GCPD', 'GVL', 'HST', 'IID', 'IPCO', 'JEA', \n",
    "     'LDWP', 'LGEE', 'MISO', 'NEVP', 'NSB', 'NWMT', #'NYIS', \n",
    "     'PACE', 'PACW', 'PGE', 'PJM', \n",
    "     'PNM', 'PSCO', 'PSEI', 'SC', #'SCEG', \n",
    "     'SCL', 'SOCO', 'SPA', \n",
    "     'SRP', 'SWPP', 'TAL', #'TEC', \n",
    "     'TEPC', 'TIDC', 'TPWR', 'TVA', 'WACM', 'WALC', 'WAUW']\n",
    "    #'ISNE',\n",
    "print( f\"Length of regions: {len(regs)}\" )\n",
    "print(regs)\n",
    "# Loop all regions\n",
    "mape_map = {}\n",
    "for r in regs:\n",
    "    print(r)\n",
    "    if not do_box_plots:\n",
    "        break\n",
    "    record = {\n",
    "        'idx_short' : [],\n",
    "        'idx_long' : [],\n",
    "        \n",
    "        'obs_short' : [],\n",
    "        'obs_long' : [],\n",
    "\n",
    "        'imp_short' : [],\n",
    "        'imp_long' : [],\n",
    "    }\n",
    "    # Loop all imputed files\n",
    "    all_mice = []\n",
    "    \n",
    "    mape_map[r] = {}\n",
    "    \n",
    "    for i in range(10):\n",
    "        #print(f'{r} - adding mean file {i}')\n",
    "        df_imp = load_csv(base+'csv_MASTER'+app+f'_overimpute_{i}.csv', regions, ['NA',], True, 0)\n",
    "        #df_imp = df_imp.drop([i for i in range(19)])\n",
    "        #df_imp = df_imp.drop([i for i in range(35064+19,36547)])\n",
    "        df_imp = df_imp.reset_index()\n",
    "\n",
    "        \n",
    "        # Find index ONLY from overimputation\n",
    "        over_index = get_overimpute_index(df, df_imp, r)\n",
    "\n",
    "        # Split results by short vs long imputation gaps\n",
    "        short_obs, long_obs = split_index_into_sort_and_long_gaps(over_index)\n",
    "        \n",
    "        df_mice = load_csv(base+f'mean_overimpute_csv_MASTER_{i}_mice_Oct5.csv', regions, ['NA',], True, 0)\n",
    "   \n",
    "        record['idx_short'].append(short_obs)\n",
    "        record['idx_long'].append(long_obs)\n",
    "        \n",
    "        record['obs_short'].append(return_values_by_index(df, short_obs, r))\n",
    "        record['obs_long'].append(return_values_by_index(df, long_obs, r))\n",
    "        \n",
    "        record['imp_short'].append(return_values_by_index(df_mice, short_obs, r))\n",
    "        record['imp_long'].append(return_values_by_index(df_mice, long_obs, r))\n",
    "\n",
    "    \n",
    "    idxs = ['idx_short', 'idx_long']\n",
    "    obss = ['obs_short', 'obs_long']\n",
    "    imps = ['imp_short', 'imp_long']\n",
    "    names = ['short', 'long']\n",
    "    for name, idx, obs, imp in zip(names, idxs, obss, imps):\n",
    "        idx_vals = np.concatenate(record[idx])\n",
    "        obs_vals = pd.concat(record[obs])\n",
    "        imp_vals = pd.concat(record[imp])\n",
    "\n",
    "\n",
    "        resolution_by_time(df, idx_vals, obs_vals, imp_vals, 'overimp hourly resolution {} {} {}'.format(name, n1, r),\n",
    "            f'{png_out}imp_resolution_hourly_{r}_{name}.png')\n",
    "        \n",
    "        info = get_mape_list(df, obs_vals, imp_vals)\n",
    "        mape_map[r][name] = info[0]\n",
    "        mape_map[r][name+'_mean'] = info[1]\n",
    "    mape_map[r]['all'] = list(mape_map[r]['short'])\n",
    "    mape_map[r]['all'].extend( list(mape_map[r]['long']) )\n",
    "    mape_map[r]['all_mean'] = list(mape_map[r]['short_mean'])\n",
    "    mape_map[r]['all_mean'].extend( list(mape_map[r]['long_mean']) )\n",
    "\n",
    "\n",
    "\n",
    "    \n",
    "if do_box_plots:\n",
    "    print(\"BA Median_Demand Num_for_Imp Mean_Diff Short Long All Forecast\")\n",
    "    total = {'short': [], 'long': [], 'all': [], 'all_mean': []}\n",
    "    tot_imp = 0\n",
    "    tot_med = 0\n",
    "    for r, d in mape_map.items():\n",
    "        med = df[r].median()\n",
    "        short_ = 100. * sum(d['short'])/len(d['short']) if len(d['short']) > 0 else np.nan\n",
    "        long_ = 100. * sum(d['long'])/len(d['long']) if len(d['long']) > 0 else np.nan\n",
    "        all_ = 100. * sum(d['all'])/len(d['all']) if len(d['all']) > 0 else np.nan\n",
    "        mean_all = np.nanmean(d['all_mean']) if len(d['all_mean']) > 0 else np.nan\n",
    "        total['short'].extend(d['short'])\n",
    "        total['long'].extend(d['long'])\n",
    "        total['all'].extend(d['all'])\n",
    "        total['all_mean'].extend(d['all_mean'])\n",
    "        tot_imp += sum(df[r].isna())\n",
    "        tot_med += med\n",
    "        #forecast = get_forecast(r)\n",
    "        print(r, int(med), sum(df[r].isna()), 100. * round(mean_all,5), round(short_,2), round(long_,2), round(all_,2))#, round(forecast*100,2))\n",
    "    print(\"CONUS\", int(tot_med), tot_imp, 100. * round(np.nanmean(total['all_mean']),5),\n",
    "        round(100. * sum(total['short'])/len(total['short']),2), \n",
    "        round(100. * sum(total['long'])/len(total['long']),2), \n",
    "        round(100. * sum(total['all'])/len(total['all']),2))\n"
   ]
  }
 ],
 "metadata": {
  "kernelspec": {
   "display_name": "Python 3",
   "language": "python",
   "name": "python3"
  },
  "language_info": {
   "codemirror_mode": {
    "name": "ipython",
    "version": 3
   },
   "file_extension": ".py",
   "mimetype": "text/x-python",
   "name": "python",
   "nbconvert_exporter": "python",
   "pygments_lexer": "ipython3",
   "version": "3.7.4"
  }
 },
 "nbformat": 4,
 "nbformat_minor": 2
}
