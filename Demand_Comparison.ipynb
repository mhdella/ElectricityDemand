{
 "cells": [
  {
   "cell_type": "code",
   "execution_count": 1,
   "metadata": {},
   "outputs": [],
   "source": [
    "import pandas as pd\n",
    "import numpy as np\n",
    "import matplotlib.pyplot as plt"
   ]
  },
  {
   "cell_type": "code",
   "execution_count": 2,
   "metadata": {},
   "outputs": [
    {
     "name": "stdout",
     "output_type": "stream",
     "text": [
      "   year  month  day  hour  demand\n",
      "0  2015      7    2     1  590936\n",
      "1  2015      7    2     2  572000\n",
      "2  2015      7    2     3  555104\n",
      "3  2015      7    2     4  531578\n",
      "4  2015      7    2     5  499607\n",
      "   year  month  day  hour  demand (MW)\n",
      "0  2015      7    2     1       568722\n",
      "1  2015      7    2     2       557117\n",
      "2  2015      7    2     3       533966\n",
      "3  2015      7    2     4       498200\n",
      "4  2015      7    2     5       465082\n"
     ]
    }
   ],
   "source": [
    "old = pd.read_csv('./demand_series_Shaner_unnormalized_tmp.csv', header=5)\n",
    "print(old.head())\n",
    "new = pd.read_csv('./CONUS_from_BAs_for_MEM_tmp.csv', header=5)\n",
    "print(new.head())"
   ]
  },
  {
   "cell_type": "code",
   "execution_count": 3,
   "metadata": {},
   "outputs": [
    {
     "name": "stdout",
     "output_type": "stream",
     "text": [
      "4392\n",
      "790863\n",
      "269395\n",
      "461078.5539617486\n"
     ]
    }
   ],
   "source": [
    "print(len(old.index))\n",
    "print(old['demand'].max())\n",
    "print(old['demand'].min())\n",
    "print(old['demand'].mean())"
   ]
  },
  {
   "cell_type": "code",
   "execution_count": 4,
   "metadata": {},
   "outputs": [
    {
     "name": "stdout",
     "output_type": "stream",
     "text": [
      "4392\n",
      "702806\n",
      "314598\n",
      "460989.0771857923\n"
     ]
    }
   ],
   "source": [
    "print(len(new.index))\n",
    "print(new['demand (MW)'].max())\n",
    "print(new['demand (MW)'].min())\n",
    "print(new['demand (MW)'].mean())"
   ]
  },
  {
   "cell_type": "code",
   "execution_count": 5,
   "metadata": {},
   "outputs": [
    {
     "data": {
      "image/png": "[encoded data removed]",
      "text/plain": [
       "<Figure size 432x288 with 1 Axes>"
      ]
     },
     "metadata": {
      "needs_background": "light"
     },
     "output_type": "display_data"
    }
   ],
   "source": [
    "fig, ax = plt.subplots()\n",
    "n, bins, patches = plt.hist(old['demand'], 200, range=[200000, 900000], facecolor='r', alpha=0.3, label='Shaner')\n",
    "n, bins, patches = plt.hist(new['demand (MW)'], 200, range=[200000, 900000], facecolor='b', alpha=0.3, label='New')\n",
    "plt.legend()\n",
    "#plt.yscale('log', nonposy='clip')\n",
    "plt.xlabel('demand (MW)')\n",
    "plt.ylabel('Number of Hours in July 2, 2015 - Dec 31, 2015')\n",
    "plt.show()"
   ]
  },
  {
   "cell_type": "code",
   "execution_count": null,
   "metadata": {},
   "outputs": [],
   "source": []
  }
 ],
 "metadata": {
  "kernelspec": {
   "display_name": "Python 3",
   "language": "python",
   "name": "python3"
  },
  "language_info": {
   "codemirror_mode": {
    "name": "ipython",
    "version": 3
   },
   "file_extension": ".py",
   "mimetype": "text/x-python",
   "name": "python",
   "nbconvert_exporter": "python",
   "pygments_lexer": "ipython3",
   "version": "3.7.3"
  }
 },
 "nbformat": 4,
 "nbformat_minor": 2
}
