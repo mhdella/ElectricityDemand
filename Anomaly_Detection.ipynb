{
 "cells": [
  {
   "cell_type": "code",
   "execution_count": 1,
   "metadata": {},
   "outputs": [],
   "source": [
    "import pandas as pd\n",
    "import numpy as np\n",
    "import matplotlib.pyplot as plt"
   ]
  },
  {
   "cell_type": "code",
   "execution_count": 57,
   "metadata": {},
   "outputs": [],
   "source": [
    "def add_48hr_rolling(df):\n",
    "    # Can't use np.roll b/c it does not deal with NANs\n",
    "    # in a sophisticated manner.  Use np.nanmean which\n",
    "    # skips all NANs and leaves them out of the sum and\n",
    "    # division\n",
    "    rolling = np.empty((0,), float)\n",
    "    \n",
    "    for i in range(len(df.index)):\n",
    "        lst = df.loc[i-24:i+23]\n",
    "        val = np.nanmean(lst['demand (MW)'])\n",
    "        rolling = np.append(rolling, val)\n",
    "    \n",
    "    return df.assign(rolling48=rolling)\n",
    "\n",
    "# delta with previous and following time steps\n",
    "def add_deltas(df):\n",
    "    diff = df['demand (MW)'].diff()\n",
    "    df = df.assign(diff_pre=diff)\n",
    "    diff = df['demand (MW)'].diff(periods=-1)\n",
    "    df = df.assign(diff_post=diff)\n",
    "    return df\n",
    "\n",
    "\n",
    "# Filter on a multiplier of the IQR and set\n",
    "# the associated 'demand (MW)' value to NAN.\n",
    "# Filter on 1 multiplier for double deltas\n",
    "# and another for single jumps\n",
    "def filter_deltas(df, iqr, m_double, m_single):\n",
    "    for index, row in df.iterrows():\n",
    "        if abs(row['diff_pre']) > iqr * m_single:\n",
    "            df.at[index, 'demand (MW)'] = np.nan\n",
    "        elif abs(row['diff_post']) > iqr * m_single:\n",
    "            df.at[index, 'demand (MW)'] = np.nan\n",
    "        elif abs(row['diff_pre']) > iqr * m_double and \\\n",
    "                abs(row['diff_post']) > iqr * m_double:\n",
    "            df.at[index, 'demand (MW)'] = np.nan     \n",
    "    return df\n",
    "\n",
    "\n",
    "def filter_extrems(df, multiplier):\n",
    "    dem_iqr = np.percentile(df['demand (MW)'].dropna(), 75)\n",
    "    dem_iqr -= np.percentile(df['demand (MW)'].dropna(), 25)\n",
    "    df['demand (MW)'] = df['demand (MW)'].mask(df['demand (MW)'] > dem_iqr * multiplier)\n",
    "    return df\n",
    "\n",
    "def mark_missing_and_empty(df, col):\n",
    "    #marked = np.zeros(len(df.index))\n",
    "    print(df[col].isna())\n",
    "\n",
    "def show_structure(df):\n",
    "    plt.imshow(~df.isna(), aspect='auto')\n",
    "    plt.xlabel(\"variables\")\n",
    "    plt.ylabel(\"cases\")\n",
    "    plt.gray()\n",
    "    plt.show()\n",
    "\n",
    "def make_diff_plot(df, save):\n",
    "    plt.close()\n",
    "    fig, ax = plt.subplots()\n",
    "    n, bins, patches = ax.hist(df['diff_pre'], 100, facecolor='red', alpha=0.2, label='pre')\n",
    "    n, bins, patches = ax.hist(df['diff_post'], 100, facecolor='blue', alpha=0.2, label='post')\n",
    "    ax.set_xlabel('Demand Difference (MW)')\n",
    "    ax.set_ylabel('Counts')\n",
    "    plt.tight_layout()\n",
    "    plt.yscale('log', nonposy='clip')\n",
    "    plt.savefig(save)\n",
    "\n",
    "def make_dem_hist(df, save):\n",
    "    plt.close()\n",
    "    fig, ax = plt.subplots()\n",
    "    n, bins, patches = ax.hist(df['demand (MW)'], 100, facecolor='red', alpha=0.2, label='pre')\n",
    "    #n, bins, patches = ax.hist(df['diff_post'], 100, facecolor='blue', alpha=0.2, label='post')\n",
    "    ax.set_xlabel('Demand (MW)')\n",
    "    ax.set_ylabel('Counts')\n",
    "    plt.tight_layout()\n",
    "    plt.yscale('log', nonposy='clip')\n",
    "    plt.savefig(save)"
   ]
  },
  {
   "cell_type": "code",
   "execution_count": 58,
   "metadata": {
    "scrolled": true
   },
   "outputs": [
    {
     "name": "stdout",
     "output_type": "stream",
     "text": [
      "iqr pre 16.00 x 5 = 80.00\n",
      "diff_pre 25% -8.00  75% 8.00\n"
     ]
    },
    {
     "name": "stderr",
     "output_type": "stream",
     "text": [
      "/anaconda3/lib/python3.7/site-packages/ipykernel_launcher.py:10: RuntimeWarning: Mean of empty slice\n",
      "  # Remove the CWD from sys.path while we load stuff.\n"
     ]
    },
    {
     "data": {
      "image/png": "[encoded data removed]",
      "text/plain": [
       "<Figure size 432x288 with 1 Axes>"
      ]
     },
     "metadata": {
      "needs_background": "light"
     },
     "output_type": "display_data"
    }
   ],
   "source": [
    "dem_map = {}\n",
    "regions = ['TIDC',]# 'BANC', 'CISO', 'LDWP']\n",
    "for region in regions:\n",
    "    file_path = '../get_eia_demand_data/data/{}.csv'.format(region)\n",
    "    dem_map[region] = pd.read_csv(file_path, #index_col='time',\n",
    "                       dtype={'demand (MW)':np.float64},\n",
    "                      parse_dates=True, na_values=['MISSING', 'EMPTY'])\n",
    "    \n",
    "    # Convert date/time\n",
    "    dem_map[region]['time'] = pd.to_datetime(dem_map[region]['time'])\n",
    "\n",
    "    # Make missing and empty values\n",
    "    dem_map[region] = dem_map[region].assign(missing=dem_map[region]['demand (MW)'].isna())\n",
    "    \n",
    "    # Set all negative and zero values to NAN\n",
    "    dem_map[region]['demand (MW)'] = dem_map[region]['demand (MW)'].mask(dem_map[region]['demand (MW)'] <= 0.)\n",
    "    \n",
    "    # Add deltas\n",
    "    dem_map[region] = add_deltas(dem_map[region])\n",
    "    \n",
    "    # Plots\n",
    "    make_diff_plot(dem_map[region], 'diffs_original_{}.png'.format(region))\n",
    "    make_dem_hist(dem_map[region], 'dem_original_{}.png'.format(region))\n",
    "    \n",
    "    # Calculate IQR for the deltas\n",
    "    iqr = np.percentile(dem_map[region]['diff_pre'].dropna(), 75) - \\\n",
    "                np.percentile(dem_map[region]['diff_pre'].dropna(), 25)\n",
    "    \n",
    "    print(\"iqr pre {:.2f} x 5 = {:.2f}\".format(iqr, iqr*5))\n",
    "    print('diff_pre 25% {:.2f}  75% {:.2f}'.format(np.percentile(dem_map[region]['diff_pre'].dropna(), 25),\n",
    "                                                  np.percentile(dem_map[region]['diff_pre'].dropna(), 75)))\n",
    "    \n",
    "    #print(dem_map[region].describe().round(2))\n",
    "    multiplier_double = 4\n",
    "    multiplier_single = 6\n",
    "    dem_map[region] = filter_deltas(dem_map[region], iqr, multiplier_double, multiplier_single)\n",
    "    \n",
    "    \n",
    "    # Filter on extreme demand values\n",
    "    multiplier = 10\n",
    "    dem_map[region] = filter_extrems(dem_map[region], multiplier)\n",
    "    \n",
    "    \n",
    "    # Add rolling 48 hr average\n",
    "    dem_map[region] = add_48hr_rolling(dem_map[region])\n",
    "\n",
    "    #print(dem_map[region].head())\n",
    "    #print(dem_map[region].loc[1000:1005])\n",
    "\n",
    "    plt.close()\n",
    "    fig, ax = plt.subplots()\n",
    "    ax.plot(dem_map[region]['demand (MW)'], 'r-', label='demand')\n",
    "    ax.plot(dem_map[region]['rolling48'], 'b-', label='rolling 48hr')\n",
    "    plt.savefig('demand_{}.png'.format(region))"
   ]
  },
  {
   "cell_type": "code",
   "execution_count": null,
   "metadata": {},
   "outputs": [],
   "source": [
    "df = dem_map['CISO']\n",
    "for k, v in dem_map.items():\n",
    "    print(k)\n",
    "    kwargs = {k : lambda x: v['demand (MW)'],\n",
    "              '{}_Lag1'.format(k) : lambda x: np.roll(v['demand (MW)'], +1),\n",
    "             }\n",
    "    df = df.assign(**kwargs)\n",
    "print(df.head())"
   ]
  },
  {
   "cell_type": "code",
   "execution_count": null,
   "metadata": {
    "scrolled": true
   },
   "outputs": [],
   "source": [
    "for remove in ['series_id', 'year', 'month', 'day', \n",
    "               'hour', 'demand (MW)', 'forecast demand (MW)',\n",
    "               'time',\n",
    "               'diff_pre', 'diff_post'\n",
    "              ]:\n",
    "    df = df.drop(remove, axis=1)\n",
    "df.head()"
   ]
  },
  {
   "cell_type": "code",
   "execution_count": null,
   "metadata": {},
   "outputs": [],
   "source": [
    "df.describe().round(2)"
   ]
  },
  {
   "cell_type": "code",
   "execution_count": null,
   "metadata": {},
   "outputs": [],
   "source": [
    "df.isna().sum(axis=0)"
   ]
  },
  {
   "cell_type": "code",
   "execution_count": null,
   "metadata": {},
   "outputs": [],
   "source": [
    "plt.imshow(~df.isna(), aspect='auto')\n",
    "plt.xlabel(\"variables\")\n",
    "plt.ylabel(\"cases\")\n",
    "plt.gray()\n",
    "plt.show()"
   ]
  },
  {
   "cell_type": "code",
   "execution_count": null,
   "metadata": {},
   "outputs": [],
   "source": []
  }
 ],
 "metadata": {
  "kernelspec": {
   "display_name": "Python 3",
   "language": "python",
   "name": "python3"
  },
  "language_info": {
   "codemirror_mode": {
    "name": "ipython",
    "version": 3
   },
   "file_extension": ".py",
   "mimetype": "text/x-python",
   "name": "python",
   "nbconvert_exporter": "python",
   "pygments_lexer": "ipython3",
   "version": "3.7.3"
  }
 },
 "nbformat": 4,
 "nbformat_minor": 2
}
